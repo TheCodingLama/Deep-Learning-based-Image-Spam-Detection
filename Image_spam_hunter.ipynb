{
 "cells": [
  {
   "cell_type": "code",
   "execution_count": 0,
   "metadata": {
    "colab": {},
    "colab_type": "code",
    "id": "AKI-7a14PpNN"
   },
   "outputs": [],
   "source": [
    "import os, shutil\n",
    "import numpy as np\n",
    "\n",
    "from matplotlib import image, pyplot\n",
    "from skimage.transform import resize\n",
    "\n",
    "\n",
    "from keras.utils import to_categorical\n",
    "from keras.models import Sequential, Model\n",
    "from keras.layers import Conv2D,MaxPool2D,Dense,Flatten,Dropout\n",
    "\n",
    "from keras import callbacks\n",
    "from keras.callbacks import ModelCheckpoint, ReduceLROnPlateau, CSVLogger\n",
    "\n",
    "from sklearn.model_selection import train_test_split\n",
    "from sklearn.metrics import confusion_matrix,accuracy_score, precision_score, f1_score, recall_score,classification_report,roc_curve, auc \n",
    "from sklearn.utils import class_weight\n",
    "\n",
    "from sklearn.linear_model import LogisticRegression\n",
    "from sklearn.naive_bayes import GaussianNB\n",
    "from sklearn.neighbors import KNeighborsClassifier\n",
    "from sklearn.tree import DecisionTreeClassifier\n",
    "from sklearn.ensemble import AdaBoostClassifier, RandomForestClassifier\n",
    "from sklearn.svm import SVC\n",
    "from sklearn import svm\n"
   ]
  },
  {
   "cell_type": "code",
   "execution_count": 0,
   "metadata": {
    "colab": {},
    "colab_type": "code",
    "id": "pGHxzhfC9Hcw"
   },
   "outputs": [],
   "source": [
    "resultPath = '/content/drive/My Drive/Research/Image Spam/Results/image_spam_hunter/CNN'\n",
    "train_folder = os.listdir(DATA_PATH).remove(\"New_Spam\")"
   ]
  },
  {
   "cell_type": "code",
   "execution_count": 5,
   "metadata": {
    "colab": {
     "base_uri": "https://localhost:8080/",
     "height": 68
    },
    "colab_type": "code",
    "id": "4CEFGdqcmsqx",
    "outputId": "7cc1989d-4064-405e-f279-566d88005b6f"
   },
   "outputs": [
    {
     "name": "stdout",
     "output_type": "stream",
     "text": [
      ">>>Reading  SpamImages\n",
      ">>>Reading  NaturalImages\n",
      ">>>Reading  New_Spam\n"
     ]
    }
   ],
   "source": [
    "DATA_PATH = '/content/drive/My Drive/Research/Image Spam/Dataset/image_spam_hunter/'\n",
    "spamData=[]\n",
    "label=[]\n",
    "hashList=[]\n",
    "count=-1\n",
    "for folder in os.listdir(DATA_PATH):\n",
    "    if folder==\"New_Spam\":\n",
    "      continue;\n",
    "    print(\">>>Reading \",folder)\n",
    "    count+=1\n",
    "    \n",
    "    for file in os.listdir(DATA_PATH+folder):\n",
    "        if(str(file).endswith('.jpg') or str(file).endswith('.JPG') or str(file).endswith('.jpeg') or str(file).endswith('.JPEG')):\n",
    "            img = image.imread(DATA_PATH+folder+'/'+file)\n",
    "            hsh = hash(tuple(np.array(img).flatten()))\n",
    "            if(hsh not in hashList):\n",
    "              spamData.append(resize(img, (156, 156, 3)))\n",
    "              hashList.append(hsh)\n",
    "              label.append(count)\n",
    "spamData=np.array(spamData)\n",
    "label=np.array(label)"
   ]
  },
  {
   "cell_type": "code",
   "execution_count": 10,
   "metadata": {
    "colab": {
     "base_uri": "https://localhost:8080/",
     "height": 51
    },
    "colab_type": "code",
    "id": "EHSoNhbjfT_b",
    "outputId": "b879c796-24b9-4d7b-e736-9bd9fe63bac9"
   },
   "outputs": [
    {
     "name": "stdout",
     "output_type": "stream",
     "text": [
      "Number of SPAM 897\n",
      "Number of HAM 810\n"
     ]
    }
   ],
   "source": [
    "print(\"Number of SPAM\",len(label[label==0]))\n",
    "print(\"Number of HAM\",len(label[label==1]))"
   ]
  },
  {
   "cell_type": "code",
   "execution_count": 11,
   "metadata": {
    "colab": {
     "base_uri": "https://localhost:8080/",
     "height": 34
    },
    "colab_type": "code",
    "id": "TbHVzhMYpfSR",
    "outputId": "c5f70e4a-4aac-4632-9cbf-2e7c17d580c8"
   },
   "outputs": [
    {
     "name": "stdout",
     "output_type": "stream",
     "text": [
      "Spam data shape :  (1707, 156, 156, 3)  Label shape :  (1707,)\n"
     ]
    }
   ],
   "source": [
    "print(\"Spam data shape : \",spamData.shape,\" Label shape : \",label.shape)"
   ]
  },
  {
   "cell_type": "code",
   "execution_count": 0,
   "metadata": {
    "colab": {},
    "colab_type": "code",
    "id": "pPed_TbTpfUy"
   },
   "outputs": [],
   "source": [
    "test_valid_Percentage = 0.3\n",
    "x_train,x_test,y_train,y_test = train_test_split(spamData,label,test_size = testPercentage,random_state=42, stratify=label,shuffle=True)"
   ]
  },
  {
   "cell_type": "code",
   "execution_count": 13,
   "metadata": {
    "colab": {
     "base_uri": "https://localhost:8080/",
     "height": 51
    },
    "colab_type": "code",
    "id": "yKCQLA9KpfXP",
    "outputId": "58d520cb-f173-47f4-e87d-38a4278ce87e"
   },
   "outputs": [
    {
     "name": "stdout",
     "output_type": "stream",
     "text": [
      "x_train shape :  (1194, 156, 156, 3)  y_train shape :  (1194,)\n",
      "x_test shape :  (513, 156, 156, 3)  y_test shape :  (513,)\n"
     ]
    }
   ],
   "source": [
    "print(\"x_train shape : \",x_train.shape,\" y_train shape : \",y_train.shape)\n",
    "print(\"x_test shape : \",x_test.shape,\" y_test shape : \",y_test.shape)"
   ]
  },
  {
   "cell_type": "code",
   "execution_count": 15,
   "metadata": {
    "colab": {
     "base_uri": "https://localhost:8080/",
     "height": 85
    },
    "colab_type": "code",
    "id": "YTwLFvg1gFcU",
    "outputId": "d6c04f80-cd43-4724-b3a4-b47a5246baa4"
   },
   "outputs": [
    {
     "name": "stdout",
     "output_type": "stream",
     "text": [
      "Number of train SPAM 627\n",
      "Number of train HAM 567\n",
      "Number of test SPAM 270\n",
      "Number of test HAM 243\n"
     ]
    }
   ],
   "source": [
    "print(\"Number of train SPAM\",len(y_train[y_train==0]))\n",
    "print(\"Number of train HAM\",len(y_train[y_train==1]))\n",
    "\n",
    "print(\"Number of test SPAM\",len(y_test[y_test==0]))\n",
    "print(\"Number of test HAM\",len(y_test[y_test==1]))"
   ]
  },
  {
   "cell_type": "code",
   "execution_count": 16,
   "metadata": {
    "colab": {
     "base_uri": "https://localhost:8080/",
     "height": 34
    },
    "colab_type": "code",
    "id": "H-IQht0NpfZv",
    "outputId": "a56d6aee-5b2a-402d-bd8c-165176778e3a"
   },
   "outputs": [
    {
     "name": "stdout",
     "output_type": "stream",
     "text": [
      "y_train_oh shape :  (1194, 2)  y_test_oh shape :  (513, 2)\n"
     ]
    }
   ],
   "source": [
    "y_train_oh = to_categorical(y_train)\n",
    "y_test_oh = to_categorical(y_test)\n",
    "\n",
    "print(\"y_train_oh shape : \",y_train_oh.shape,\" y_test_oh shape : \",y_test_oh.shape)"
   ]
  },
  {
   "cell_type": "code",
   "execution_count": 18,
   "metadata": {
    "colab": {
     "base_uri": "https://localhost:8080/",
     "height": 493
    },
    "colab_type": "code",
    "id": "nTY9h-XlpfcV",
    "outputId": "efa8c1ca-d5c1-4847-f2e1-120a20ad2041"
   },
   "outputs": [
    {
     "name": "stdout",
     "output_type": "stream",
     "text": [
      "Model: \"sequential_2\"\n",
      "_________________________________________________________________\n",
      "Layer (type)                 Output Shape              Param #   \n",
      "=================================================================\n",
      "conv2d_4 (Conv2D)            (None, 156, 156, 32)      896       \n",
      "_________________________________________________________________\n",
      "max_pooling2d_3 (MaxPooling2 (None, 78, 78, 32)        0         \n",
      "_________________________________________________________________\n",
      "conv2d_5 (Conv2D)            (None, 78, 78, 64)        18496     \n",
      "_________________________________________________________________\n",
      "max_pooling2d_4 (MaxPooling2 (None, 39, 39, 64)        0         \n",
      "_________________________________________________________________\n",
      "conv2d_6 (Conv2D)            (None, 39, 39, 128)       73856     \n",
      "_________________________________________________________________\n",
      "dropout_3 (Dropout)          (None, 39, 39, 128)       0         \n",
      "_________________________________________________________________\n",
      "flatten_2 (Flatten)          (None, 194688)            0         \n",
      "_________________________________________________________________\n",
      "dense_3 (Dense)              (None, 128)               24920192  \n",
      "_________________________________________________________________\n",
      "dropout_4 (Dropout)          (None, 128)               0         \n",
      "_________________________________________________________________\n",
      "dense_4 (Dense)              (None, 1)                 129       \n",
      "=================================================================\n",
      "Total params: 25,013,569\n",
      "Trainable params: 25,013,569\n",
      "Non-trainable params: 0\n",
      "_________________________________________________________________\n"
     ]
    }
   ],
   "source": [
    "NO_OF_EPOCHS=100\n",
    "BATCH_SIZE=32\n",
    "\n",
    "model=Sequential()\n",
    "model.add(Conv2D(32,kernel_size=3, padding='same',activation='relu',input_shape=(156, 156,3)))\n",
    "model.add(MaxPool2D(pool_size=(2, 2)))\n",
    "model.add(Conv2D(64,kernel_size=3, padding='same',activation='relu'))\n",
    "model.add(MaxPool2D(pool_size=(2, 2)))\n",
    "model.add(Conv2D(128,kernel_size=3, padding='same',activation='relu'))\n",
    "model.add(Dropout(0.1))\n",
    "model.add(Flatten())\n",
    "model.add(Dense(128,activation='relu'))\n",
    "model.add(Dropout(0.1))\n",
    "model.add(Dense(1,activation='sigmoid'))\n",
    "model.summary()\n",
    "model.compile(loss='binary_crossentropy', optimizer='adam',metrics=['accuracy'])"
   ]
  },
  {
   "cell_type": "code",
   "execution_count": 20,
   "metadata": {
    "colab": {
     "base_uri": "https://localhost:8080/",
     "height": 1000
    },
    "colab_type": "code",
    "id": "1FaifFXAtiGd",
    "outputId": "d0e0d45f-4300-465b-817d-dbc44cd1cdb6"
   },
   "outputs": [
    {
     "name": "stdout",
     "output_type": "stream",
     "text": [
      "WARNING:tensorflow:From /usr/local/lib/python3.6/dist-packages/keras/backend/tensorflow_backend.py:1033: The name tf.assign_add is deprecated. Please use tf.compat.v1.assign_add instead.\n",
      "\n",
      "WARNING:tensorflow:From /usr/local/lib/python3.6/dist-packages/keras/backend/tensorflow_backend.py:1020: The name tf.assign is deprecated. Please use tf.compat.v1.assign instead.\n",
      "\n",
      "WARNING:tensorflow:From /usr/local/lib/python3.6/dist-packages/keras/backend/tensorflow_backend.py:3005: The name tf.Session is deprecated. Please use tf.compat.v1.Session instead.\n",
      "\n",
      "Train on 1194 samples, validate on 513 samples\n",
      "Epoch 1/100\n",
      "WARNING:tensorflow:From /usr/local/lib/python3.6/dist-packages/keras/backend/tensorflow_backend.py:190: The name tf.get_default_session is deprecated. Please use tf.compat.v1.get_default_session instead.\n",
      "\n",
      "WARNING:tensorflow:From /usr/local/lib/python3.6/dist-packages/keras/backend/tensorflow_backend.py:197: The name tf.ConfigProto is deprecated. Please use tf.compat.v1.ConfigProto instead.\n",
      "\n",
      "WARNING:tensorflow:From /usr/local/lib/python3.6/dist-packages/keras/backend/tensorflow_backend.py:207: The name tf.global_variables is deprecated. Please use tf.compat.v1.global_variables instead.\n",
      "\n",
      "WARNING:tensorflow:From /usr/local/lib/python3.6/dist-packages/keras/backend/tensorflow_backend.py:216: The name tf.is_variable_initialized is deprecated. Please use tf.compat.v1.is_variable_initialized instead.\n",
      "\n",
      "WARNING:tensorflow:From /usr/local/lib/python3.6/dist-packages/keras/backend/tensorflow_backend.py:223: The name tf.variables_initializer is deprecated. Please use tf.compat.v1.variables_initializer instead.\n",
      "\n",
      "1194/1194 [==============================] - 13s 11ms/step - loss: 0.4608 - acc: 0.8610 - val_loss: 0.2648 - val_acc: 0.8967\n",
      "\n",
      "Epoch 00001: val_acc improved from -inf to 0.89669, saving model to /content/drive/My Drive/Research/Image Spam/Results/image_spam_hunter/CNN/checkpoint-0001.hdf5\n",
      "Epoch 2/100\n",
      "1194/1194 [==============================] - 4s 4ms/step - loss: 0.1714 - acc: 0.9389 - val_loss: 0.1779 - val_acc: 0.9493\n",
      "\n",
      "Epoch 00002: val_acc improved from 0.89669 to 0.94932, saving model to /content/drive/My Drive/Research/Image Spam/Results/image_spam_hunter/CNN/checkpoint-0002.hdf5\n",
      "Epoch 3/100\n",
      "1194/1194 [==============================] - 5s 4ms/step - loss: 0.0753 - acc: 0.9732 - val_loss: 0.1274 - val_acc: 0.9571\n",
      "\n",
      "Epoch 00003: val_acc improved from 0.94932 to 0.95712, saving model to /content/drive/My Drive/Research/Image Spam/Results/image_spam_hunter/CNN/checkpoint-0003.hdf5\n",
      "Epoch 4/100\n",
      "1194/1194 [==============================] - 5s 4ms/step - loss: 0.0762 - acc: 0.9749 - val_loss: 0.1137 - val_acc: 0.9591\n",
      "\n",
      "Epoch 00004: val_acc improved from 0.95712 to 0.95906, saving model to /content/drive/My Drive/Research/Image Spam/Results/image_spam_hunter/CNN/checkpoint-0004.hdf5\n",
      "Epoch 5/100\n",
      "1194/1194 [==============================] - 5s 4ms/step - loss: 0.0392 - acc: 0.9858 - val_loss: 0.1177 - val_acc: 0.9649\n",
      "\n",
      "Epoch 00005: val_acc improved from 0.95906 to 0.96491, saving model to /content/drive/My Drive/Research/Image Spam/Results/image_spam_hunter/CNN/checkpoint-0005.hdf5\n",
      "Epoch 6/100\n",
      "1194/1194 [==============================] - 5s 4ms/step - loss: 0.0392 - acc: 0.9883 - val_loss: 0.1644 - val_acc: 0.9610\n",
      "\n",
      "Epoch 00006: val_acc did not improve from 0.96491\n",
      "Epoch 7/100\n",
      "1194/1194 [==============================] - 5s 4ms/step - loss: 0.0238 - acc: 0.9916 - val_loss: 0.1576 - val_acc: 0.9610\n",
      "\n",
      "Epoch 00007: val_acc did not improve from 0.96491\n",
      "Epoch 8/100\n",
      "1194/1194 [==============================] - 5s 4ms/step - loss: 0.0373 - acc: 0.9908 - val_loss: 0.1193 - val_acc: 0.9669\n",
      "\n",
      "Epoch 00008: val_acc improved from 0.96491 to 0.96686, saving model to /content/drive/My Drive/Research/Image Spam/Results/image_spam_hunter/CNN/checkpoint-0008.hdf5\n",
      "Epoch 9/100\n",
      "1194/1194 [==============================] - 4s 4ms/step - loss: 0.0381 - acc: 0.9883 - val_loss: 0.2093 - val_acc: 0.9571\n",
      "\n",
      "Epoch 00009: val_acc did not improve from 0.96686\n",
      "Epoch 10/100\n",
      "1194/1194 [==============================] - 5s 4ms/step - loss: 0.1497 - acc: 0.9690 - val_loss: 0.2122 - val_acc: 0.9454\n",
      "\n",
      "Epoch 00010: val_acc did not improve from 0.96686\n",
      "Epoch 11/100\n",
      "1194/1194 [==============================] - 5s 4ms/step - loss: 0.0262 - acc: 0.9933 - val_loss: 0.1815 - val_acc: 0.9610\n",
      "\n",
      "Epoch 00011: val_acc did not improve from 0.96686\n",
      "Epoch 12/100\n",
      "1194/1194 [==============================] - 4s 4ms/step - loss: 0.0599 - acc: 0.9824 - val_loss: 0.1854 - val_acc: 0.9669\n",
      "\n",
      "Epoch 00012: val_acc did not improve from 0.96686\n",
      "Epoch 13/100\n",
      "1194/1194 [==============================] - 4s 4ms/step - loss: 0.0315 - acc: 0.9908 - val_loss: 0.1716 - val_acc: 0.9649\n",
      "\n",
      "Epoch 00013: val_acc did not improve from 0.96686\n",
      "Epoch 14/100\n",
      "1194/1194 [==============================] - 4s 4ms/step - loss: 0.0176 - acc: 0.9958 - val_loss: 0.1824 - val_acc: 0.9688\n",
      "\n",
      "Epoch 00014: val_acc improved from 0.96686 to 0.96881, saving model to /content/drive/My Drive/Research/Image Spam/Results/image_spam_hunter/CNN/checkpoint-0014.hdf5\n",
      "Epoch 15/100\n",
      "1194/1194 [==============================] - 4s 4ms/step - loss: 0.0061 - acc: 0.9975 - val_loss: 0.2243 - val_acc: 0.9649\n",
      "\n",
      "Epoch 00015: val_acc did not improve from 0.96881\n",
      "Epoch 16/100\n",
      "1194/1194 [==============================] - 5s 4ms/step - loss: 0.0050 - acc: 0.9975 - val_loss: 0.2385 - val_acc: 0.9649\n",
      "\n",
      "Epoch 00016: val_acc did not improve from 0.96881\n",
      "Epoch 17/100\n",
      "1194/1194 [==============================] - 5s 4ms/step - loss: 0.0141 - acc: 0.9950 - val_loss: 0.2190 - val_acc: 0.9688\n",
      "\n",
      "Epoch 00017: val_acc did not improve from 0.96881\n",
      "Epoch 18/100\n",
      "1194/1194 [==============================] - 5s 4ms/step - loss: 0.0049 - acc: 0.9975 - val_loss: 0.2426 - val_acc: 0.9649\n",
      "\n",
      "Epoch 00018: val_acc did not improve from 0.96881\n",
      "Epoch 19/100\n",
      "1194/1194 [==============================] - 4s 4ms/step - loss: 0.0014 - acc: 1.0000 - val_loss: 0.2491 - val_acc: 0.9610\n",
      "\n",
      "Epoch 00019: val_acc did not improve from 0.96881\n",
      "Epoch 20/100\n",
      "1194/1194 [==============================] - 4s 4ms/step - loss: 7.8195e-04 - acc: 1.0000 - val_loss: 0.2538 - val_acc: 0.9630\n",
      "\n",
      "Epoch 00020: val_acc did not improve from 0.96881\n",
      "Epoch 21/100\n",
      "1194/1194 [==============================] - 4s 4ms/step - loss: 0.0011 - acc: 0.9992 - val_loss: 0.2610 - val_acc: 0.9649\n",
      "\n",
      "Epoch 00021: val_acc did not improve from 0.96881\n",
      "Epoch 22/100\n",
      "1194/1194 [==============================] - 4s 4ms/step - loss: 3.6585e-04 - acc: 1.0000 - val_loss: 0.2677 - val_acc: 0.9649\n",
      "\n",
      "Epoch 00022: val_acc did not improve from 0.96881\n",
      "Epoch 23/100\n",
      "1194/1194 [==============================] - 4s 4ms/step - loss: 3.5245e-04 - acc: 1.0000 - val_loss: 0.2722 - val_acc: 0.9649\n",
      "\n",
      "Epoch 00023: val_acc did not improve from 0.96881\n",
      "Epoch 24/100\n",
      "1194/1194 [==============================] - 4s 4ms/step - loss: 2.7225e-04 - acc: 1.0000 - val_loss: 0.2758 - val_acc: 0.9630\n",
      "\n",
      "Epoch 00024: val_acc did not improve from 0.96881\n",
      "Epoch 25/100\n",
      "1194/1194 [==============================] - 4s 4ms/step - loss: 5.7317e-04 - acc: 1.0000 - val_loss: 0.2786 - val_acc: 0.9649\n",
      "\n",
      "Epoch 00025: val_acc did not improve from 0.96881\n",
      "Epoch 26/100\n",
      "1194/1194 [==============================] - 5s 4ms/step - loss: 1.7194e-04 - acc: 1.0000 - val_loss: 0.2829 - val_acc: 0.9649\n",
      "\n",
      "Epoch 00026: val_acc did not improve from 0.96881\n",
      "Epoch 27/100\n",
      "1194/1194 [==============================] - 4s 4ms/step - loss: 1.5327e-04 - acc: 1.0000 - val_loss: 0.2851 - val_acc: 0.9649\n",
      "\n",
      "Epoch 00027: val_acc did not improve from 0.96881\n",
      "Epoch 28/100\n",
      "1194/1194 [==============================] - 4s 4ms/step - loss: 2.3301e-04 - acc: 1.0000 - val_loss: 0.2867 - val_acc: 0.9649\n",
      "\n",
      "Epoch 00028: val_acc did not improve from 0.96881\n",
      "Epoch 29/100\n",
      "1194/1194 [==============================] - 4s 4ms/step - loss: 1.1956e-04 - acc: 1.0000 - val_loss: 0.2900 - val_acc: 0.9649\n",
      "\n",
      "Epoch 00029: val_acc did not improve from 0.96881\n",
      "Epoch 30/100\n",
      "1194/1194 [==============================] - 4s 4ms/step - loss: 2.3509e-04 - acc: 1.0000 - val_loss: 0.2937 - val_acc: 0.9649\n",
      "\n",
      "Epoch 00030: val_acc did not improve from 0.96881\n",
      "Epoch 31/100\n",
      "1194/1194 [==============================] - 4s 4ms/step - loss: 6.7921e-05 - acc: 1.0000 - val_loss: 0.2964 - val_acc: 0.9649\n",
      "\n",
      "Epoch 00031: val_acc did not improve from 0.96881\n",
      "Epoch 32/100\n",
      "1194/1194 [==============================] - 4s 4ms/step - loss: 7.1149e-05 - acc: 1.0000 - val_loss: 0.2965 - val_acc: 0.9649\n",
      "\n",
      "Epoch 00032: val_acc did not improve from 0.96881\n",
      "Epoch 33/100\n",
      "1194/1194 [==============================] - 4s 4ms/step - loss: 1.7537e-04 - acc: 1.0000 - val_loss: 0.2983 - val_acc: 0.9649\n",
      "\n",
      "Epoch 00033: val_acc did not improve from 0.96881\n",
      "Epoch 34/100\n",
      "1194/1194 [==============================] - 4s 4ms/step - loss: 1.4328e-04 - acc: 1.0000 - val_loss: 0.2964 - val_acc: 0.9649\n",
      "\n",
      "Epoch 00034: val_acc did not improve from 0.96881\n",
      "Epoch 35/100\n",
      "1194/1194 [==============================] - 4s 4ms/step - loss: 5.5480e-05 - acc: 1.0000 - val_loss: 0.3007 - val_acc: 0.9649\n",
      "\n",
      "Epoch 00035: val_acc did not improve from 0.96881\n",
      "Epoch 36/100\n",
      "1194/1194 [==============================] - 5s 4ms/step - loss: 6.3367e-05 - acc: 1.0000 - val_loss: 0.3021 - val_acc: 0.9649\n",
      "\n",
      "Epoch 00036: val_acc did not improve from 0.96881\n",
      "Epoch 37/100\n",
      "1194/1194 [==============================] - 4s 4ms/step - loss: 5.7430e-05 - acc: 1.0000 - val_loss: 0.3026 - val_acc: 0.9649\n",
      "\n",
      "Epoch 00037: val_acc did not improve from 0.96881\n",
      "Epoch 38/100\n",
      "1194/1194 [==============================] - 4s 4ms/step - loss: 4.6897e-05 - acc: 1.0000 - val_loss: 0.3014 - val_acc: 0.9649\n",
      "\n",
      "Epoch 00038: val_acc did not improve from 0.96881\n",
      "Epoch 39/100\n",
      "1194/1194 [==============================] - 4s 4ms/step - loss: 5.3593e-05 - acc: 1.0000 - val_loss: 0.3052 - val_acc: 0.9649\n",
      "\n",
      "Epoch 00039: val_acc did not improve from 0.96881\n",
      "Epoch 40/100\n",
      "1194/1194 [==============================] - 4s 4ms/step - loss: 4.3318e-05 - acc: 1.0000 - val_loss: 0.3040 - val_acc: 0.9630\n",
      "\n",
      "Epoch 00040: val_acc did not improve from 0.96881\n",
      "Epoch 41/100\n",
      "1194/1194 [==============================] - 4s 4ms/step - loss: 3.8468e-05 - acc: 1.0000 - val_loss: 0.3055 - val_acc: 0.9649\n",
      "\n",
      "Epoch 00041: val_acc did not improve from 0.96881\n",
      "Epoch 42/100\n",
      "1194/1194 [==============================] - 4s 4ms/step - loss: 3.8312e-05 - acc: 1.0000 - val_loss: 0.3095 - val_acc: 0.9649\n",
      "\n",
      "Epoch 00042: val_acc did not improve from 0.96881\n",
      "Epoch 43/100\n",
      "1194/1194 [==============================] - 4s 4ms/step - loss: 2.2994e-05 - acc: 1.0000 - val_loss: 0.3111 - val_acc: 0.9649\n",
      "\n",
      "Epoch 00043: val_acc did not improve from 0.96881\n",
      "Epoch 44/100\n",
      "1194/1194 [==============================] - 4s 4ms/step - loss: 4.0223e-05 - acc: 1.0000 - val_loss: 0.3141 - val_acc: 0.9649\n",
      "\n",
      "Epoch 00044: val_acc did not improve from 0.96881\n",
      "Epoch 45/100\n",
      "1194/1194 [==============================] - 4s 4ms/step - loss: 5.8625e-05 - acc: 1.0000 - val_loss: 0.3118 - val_acc: 0.9649\n",
      "\n",
      "Epoch 00045: val_acc did not improve from 0.96881\n",
      "Epoch 46/100\n",
      "1194/1194 [==============================] - 4s 4ms/step - loss: 5.9261e-05 - acc: 1.0000 - val_loss: 0.3174 - val_acc: 0.9649\n",
      "\n",
      "Epoch 00046: val_acc did not improve from 0.96881\n",
      "Epoch 47/100\n",
      "1194/1194 [==============================] - 4s 4ms/step - loss: 2.9677e-05 - acc: 1.0000 - val_loss: 0.3168 - val_acc: 0.9649\n",
      "\n",
      "Epoch 00047: val_acc did not improve from 0.96881\n",
      "Epoch 48/100\n",
      "1194/1194 [==============================] - 5s 4ms/step - loss: 1.0707e-04 - acc: 1.0000 - val_loss: 0.3176 - val_acc: 0.9649\n",
      "\n",
      "Epoch 00048: val_acc did not improve from 0.96881\n",
      "Epoch 49/100\n",
      "1194/1194 [==============================] - 4s 4ms/step - loss: 4.2669e-05 - acc: 1.0000 - val_loss: 0.3183 - val_acc: 0.9649\n",
      "\n",
      "Epoch 00049: val_acc did not improve from 0.96881\n",
      "Epoch 50/100\n",
      "1194/1194 [==============================] - 4s 4ms/step - loss: 2.9761e-05 - acc: 1.0000 - val_loss: 0.3182 - val_acc: 0.9649\n",
      "\n",
      "Epoch 00050: val_acc did not improve from 0.96881\n",
      "Epoch 51/100\n",
      "1194/1194 [==============================] - 4s 4ms/step - loss: 1.5578e-05 - acc: 1.0000 - val_loss: 0.3209 - val_acc: 0.9649\n",
      "\n",
      "Epoch 00051: val_acc did not improve from 0.96881\n",
      "Epoch 52/100\n",
      "1194/1194 [==============================] - 4s 4ms/step - loss: 2.3603e-05 - acc: 1.0000 - val_loss: 0.3228 - val_acc: 0.9649\n",
      "\n",
      "Epoch 00052: val_acc did not improve from 0.96881\n",
      "Epoch 53/100\n",
      "1194/1194 [==============================] - 4s 4ms/step - loss: 2.1518e-05 - acc: 1.0000 - val_loss: 0.3224 - val_acc: 0.9649\n",
      "\n",
      "Epoch 00053: val_acc did not improve from 0.96881\n",
      "Epoch 54/100\n",
      "1194/1194 [==============================] - 4s 4ms/step - loss: 3.9402e-05 - acc: 1.0000 - val_loss: 0.3199 - val_acc: 0.9649\n",
      "\n",
      "Epoch 00054: val_acc did not improve from 0.96881\n",
      "Epoch 55/100\n",
      "1194/1194 [==============================] - 4s 4ms/step - loss: 1.5261e-05 - acc: 1.0000 - val_loss: 0.3222 - val_acc: 0.9649\n",
      "\n",
      "Epoch 00055: val_acc did not improve from 0.96881\n",
      "Epoch 56/100\n",
      "1194/1194 [==============================] - 4s 4ms/step - loss: 1.5705e-05 - acc: 1.0000 - val_loss: 0.3226 - val_acc: 0.9630\n",
      "\n",
      "Epoch 00056: val_acc did not improve from 0.96881\n",
      "Epoch 57/100\n",
      "1194/1194 [==============================] - 5s 4ms/step - loss: 1.6404e-05 - acc: 1.0000 - val_loss: 0.3237 - val_acc: 0.9630\n",
      "\n",
      "Epoch 00057: val_acc did not improve from 0.96881\n",
      "Epoch 58/100\n",
      "1194/1194 [==============================] - 4s 4ms/step - loss: 1.4629e-05 - acc: 1.0000 - val_loss: 0.3246 - val_acc: 0.9630\n",
      "\n",
      "Epoch 00058: val_acc did not improve from 0.96881\n",
      "Epoch 59/100\n",
      "1194/1194 [==============================] - 5s 4ms/step - loss: 1.2522e-05 - acc: 1.0000 - val_loss: 0.3255 - val_acc: 0.9649\n",
      "\n",
      "Epoch 00059: val_acc did not improve from 0.96881\n",
      "Epoch 60/100\n",
      "1194/1194 [==============================] - 5s 4ms/step - loss: 1.2294e-05 - acc: 1.0000 - val_loss: 0.3261 - val_acc: 0.9630\n",
      "\n",
      "Epoch 00060: val_acc did not improve from 0.96881\n",
      "Epoch 61/100\n",
      "1194/1194 [==============================] - 5s 4ms/step - loss: 3.1423e-05 - acc: 1.0000 - val_loss: 0.3340 - val_acc: 0.9649\n",
      "\n",
      "Epoch 00061: val_acc did not improve from 0.96881\n",
      "Epoch 62/100\n",
      "1194/1194 [==============================] - 4s 4ms/step - loss: 2.1807e-05 - acc: 1.0000 - val_loss: 0.3358 - val_acc: 0.9649\n",
      "\n",
      "Epoch 00062: val_acc did not improve from 0.96881\n",
      "Epoch 63/100\n",
      "1194/1194 [==============================] - 5s 4ms/step - loss: 1.1828e-05 - acc: 1.0000 - val_loss: 0.3345 - val_acc: 0.9649\n",
      "\n",
      "Epoch 00063: val_acc did not improve from 0.96881\n",
      "Epoch 64/100\n",
      "1194/1194 [==============================] - 4s 4ms/step - loss: 1.4370e-05 - acc: 1.0000 - val_loss: 0.3365 - val_acc: 0.9649\n",
      "\n",
      "Epoch 00064: val_acc did not improve from 0.96881\n",
      "Epoch 65/100\n",
      "1194/1194 [==============================] - 4s 4ms/step - loss: 1.2835e-05 - acc: 1.0000 - val_loss: 0.3359 - val_acc: 0.9649\n",
      "\n",
      "Epoch 00065: val_acc did not improve from 0.96881\n",
      "Epoch 66/100\n",
      "1194/1194 [==============================] - 4s 4ms/step - loss: 1.2258e-05 - acc: 1.0000 - val_loss: 0.3353 - val_acc: 0.9649\n",
      "\n",
      "Epoch 00066: val_acc did not improve from 0.96881\n",
      "Epoch 67/100\n",
      "1194/1194 [==============================] - 4s 4ms/step - loss: 2.5501e-05 - acc: 1.0000 - val_loss: 0.3345 - val_acc: 0.9649\n",
      "\n",
      "Epoch 00067: val_acc did not improve from 0.96881\n",
      "Epoch 68/100\n",
      "1194/1194 [==============================] - 4s 4ms/step - loss: 5.3180e-05 - acc: 1.0000 - val_loss: 0.3385 - val_acc: 0.9630\n",
      "\n",
      "Epoch 00068: val_acc did not improve from 0.96881\n",
      "Epoch 69/100\n",
      "1194/1194 [==============================] - 4s 4ms/step - loss: 8.2741e-06 - acc: 1.0000 - val_loss: 0.3397 - val_acc: 0.9630\n",
      "\n",
      "Epoch 00069: val_acc did not improve from 0.96881\n",
      "Epoch 70/100\n",
      "1194/1194 [==============================] - 4s 4ms/step - loss: 6.7199e-06 - acc: 1.0000 - val_loss: 0.3402 - val_acc: 0.9649\n",
      "\n",
      "Epoch 00070: val_acc did not improve from 0.96881\n",
      "Epoch 71/100\n",
      "1194/1194 [==============================] - 4s 4ms/step - loss: 6.2778e-06 - acc: 1.0000 - val_loss: 0.3414 - val_acc: 0.9630\n",
      "\n",
      "Epoch 00071: val_acc did not improve from 0.96881\n",
      "Epoch 72/100\n",
      "1194/1194 [==============================] - 4s 4ms/step - loss: 3.3747e-05 - acc: 1.0000 - val_loss: 0.3438 - val_acc: 0.9649\n",
      "\n",
      "Epoch 00072: val_acc did not improve from 0.96881\n",
      "Epoch 73/100\n",
      "1194/1194 [==============================] - 4s 4ms/step - loss: 6.0607e-06 - acc: 1.0000 - val_loss: 0.3425 - val_acc: 0.9630\n",
      "\n",
      "Epoch 00073: val_acc did not improve from 0.96881\n",
      "Epoch 74/100\n",
      "1194/1194 [==============================] - 4s 4ms/step - loss: 1.2794e-05 - acc: 1.0000 - val_loss: 0.3426 - val_acc: 0.9630\n",
      "\n",
      "Epoch 00074: val_acc did not improve from 0.96881\n",
      "Epoch 75/100\n",
      "1194/1194 [==============================] - 4s 4ms/step - loss: 8.1038e-06 - acc: 1.0000 - val_loss: 0.3437 - val_acc: 0.9649\n",
      "\n",
      "Epoch 00075: val_acc did not improve from 0.96881\n",
      "Epoch 76/100\n",
      "1194/1194 [==============================] - 4s 4ms/step - loss: 4.6251e-06 - acc: 1.0000 - val_loss: 0.3442 - val_acc: 0.9630\n",
      "\n",
      "Epoch 00076: val_acc did not improve from 0.96881\n",
      "Epoch 77/100\n",
      "1194/1194 [==============================] - 4s 4ms/step - loss: 3.6441e-06 - acc: 1.0000 - val_loss: 0.3444 - val_acc: 0.9630\n",
      "\n",
      "Epoch 00077: val_acc did not improve from 0.96881\n",
      "Epoch 78/100\n",
      "1194/1194 [==============================] - 4s 4ms/step - loss: 4.9923e-06 - acc: 1.0000 - val_loss: 0.3459 - val_acc: 0.9649\n",
      "\n",
      "Epoch 00078: val_acc did not improve from 0.96881\n",
      "Epoch 79/100\n",
      "1194/1194 [==============================] - 4s 4ms/step - loss: 4.9568e-06 - acc: 1.0000 - val_loss: 0.3466 - val_acc: 0.9649\n",
      "\n",
      "Epoch 00079: val_acc did not improve from 0.96881\n",
      "Epoch 80/100\n",
      "1194/1194 [==============================] - 4s 4ms/step - loss: 7.1630e-06 - acc: 1.0000 - val_loss: 0.3462 - val_acc: 0.9649\n",
      "\n",
      "Epoch 00080: val_acc did not improve from 0.96881\n",
      "Epoch 81/100\n",
      "1194/1194 [==============================] - 4s 4ms/step - loss: 9.6720e-06 - acc: 1.0000 - val_loss: 0.3468 - val_acc: 0.9649\n",
      "\n",
      "Epoch 00081: val_acc did not improve from 0.96881\n",
      "Epoch 82/100\n",
      "1194/1194 [==============================] - 5s 4ms/step - loss: 9.2066e-06 - acc: 1.0000 - val_loss: 0.3460 - val_acc: 0.9630\n",
      "\n",
      "Epoch 00082: val_acc did not improve from 0.96881\n",
      "Epoch 83/100\n",
      "1194/1194 [==============================] - 5s 4ms/step - loss: 9.8587e-06 - acc: 1.0000 - val_loss: 0.3481 - val_acc: 0.9649\n",
      "\n",
      "Epoch 00083: val_acc did not improve from 0.96881\n",
      "Epoch 84/100\n",
      "1194/1194 [==============================] - 4s 4ms/step - loss: 3.3814e-06 - acc: 1.0000 - val_loss: 0.3482 - val_acc: 0.9649\n",
      "\n",
      "Epoch 00084: val_acc did not improve from 0.96881\n",
      "Epoch 85/100\n",
      "1194/1194 [==============================] - 5s 4ms/step - loss: 5.4037e-06 - acc: 1.0000 - val_loss: 0.3485 - val_acc: 0.9630\n",
      "\n",
      "Epoch 00085: val_acc did not improve from 0.96881\n",
      "Epoch 86/100\n",
      "1194/1194 [==============================] - 5s 4ms/step - loss: 5.8668e-06 - acc: 1.0000 - val_loss: 0.3499 - val_acc: 0.9649\n",
      "\n",
      "Epoch 00086: val_acc did not improve from 0.96881\n",
      "Epoch 87/100\n",
      "1194/1194 [==============================] - 4s 4ms/step - loss: 2.6358e-06 - acc: 1.0000 - val_loss: 0.3509 - val_acc: 0.9649\n",
      "\n",
      "Epoch 00087: val_acc did not improve from 0.96881\n",
      "Epoch 88/100\n",
      "1194/1194 [==============================] - 4s 4ms/step - loss: 2.6568e-06 - acc: 1.0000 - val_loss: 0.3511 - val_acc: 0.9649\n",
      "\n",
      "Epoch 00088: val_acc did not improve from 0.96881\n",
      "Epoch 89/100\n",
      "1194/1194 [==============================] - 4s 4ms/step - loss: 5.3070e-06 - acc: 1.0000 - val_loss: 0.3516 - val_acc: 0.9649\n",
      "\n",
      "Epoch 00089: val_acc did not improve from 0.96881\n",
      "Epoch 90/100\n",
      "1194/1194 [==============================] - 4s 4ms/step - loss: 4.1559e-06 - acc: 1.0000 - val_loss: 0.3516 - val_acc: 0.9649\n",
      "\n",
      "Epoch 00090: val_acc did not improve from 0.96881\n",
      "Epoch 91/100\n",
      "1194/1194 [==============================] - 5s 4ms/step - loss: 1.1981e-05 - acc: 1.0000 - val_loss: 0.3518 - val_acc: 0.9649\n",
      "\n",
      "Epoch 00091: val_acc did not improve from 0.96881\n",
      "Epoch 92/100\n",
      "1194/1194 [==============================] - 4s 4ms/step - loss: 2.1436e-06 - acc: 1.0000 - val_loss: 0.3553 - val_acc: 0.9649\n",
      "\n",
      "Epoch 00092: val_acc did not improve from 0.96881\n",
      "Epoch 93/100\n",
      "1194/1194 [==============================] - 4s 4ms/step - loss: 4.7793e-06 - acc: 1.0000 - val_loss: 0.3521 - val_acc: 0.9649\n",
      "\n",
      "Epoch 00093: val_acc did not improve from 0.96881\n",
      "Epoch 94/100\n",
      "1194/1194 [==============================] - 4s 4ms/step - loss: 4.8878e-06 - acc: 1.0000 - val_loss: 0.3524 - val_acc: 0.9649\n",
      "\n",
      "Epoch 00094: val_acc did not improve from 0.96881\n",
      "Epoch 95/100\n",
      "1194/1194 [==============================] - 4s 4ms/step - loss: 3.2111e-06 - acc: 1.0000 - val_loss: 0.3537 - val_acc: 0.9649\n",
      "\n",
      "Epoch 00095: val_acc did not improve from 0.96881\n",
      "Epoch 96/100\n",
      "1194/1194 [==============================] - 4s 4ms/step - loss: 1.2806e-05 - acc: 1.0000 - val_loss: 0.3577 - val_acc: 0.9649\n",
      "\n",
      "Epoch 00096: val_acc did not improve from 0.96881\n",
      "Epoch 97/100\n",
      "1194/1194 [==============================] - 4s 4ms/step - loss: 0.0014 - acc: 0.9992 - val_loss: 0.2761 - val_acc: 0.9610\n",
      "\n",
      "Epoch 00097: val_acc did not improve from 0.96881\n",
      "Epoch 98/100\n",
      "1194/1194 [==============================] - 4s 4ms/step - loss: 0.6570 - acc: 0.8995 - val_loss: 0.1531 - val_acc: 0.9610\n",
      "\n",
      "Epoch 00098: val_acc did not improve from 0.96881\n",
      "Epoch 99/100\n",
      "1194/1194 [==============================] - 4s 4ms/step - loss: 0.0487 - acc: 0.9816 - val_loss: 0.2119 - val_acc: 0.9708\n",
      "\n",
      "Epoch 00099: val_acc improved from 0.96881 to 0.97076, saving model to /content/drive/My Drive/Research/Image Spam/Results/image_spam_hunter/CNN/checkpoint-0099.hdf5\n",
      "Epoch 100/100\n",
      "1194/1194 [==============================] - 4s 4ms/step - loss: 0.0848 - acc: 0.9799 - val_loss: 0.2392 - val_acc: 0.9571\n",
      "\n",
      "Epoch 00100: val_acc did not improve from 0.97076\n"
     ]
    },
    {
     "data": {
      "text/plain": [
       "<keras.callbacks.History at 0x7f98660d66d8>"
      ]
     },
     "execution_count": 20,
     "metadata": {
      "tags": []
     },
     "output_type": "execute_result"
    }
   ],
   "source": [
    "checkpointer = callbacks.ModelCheckpoint(filepath=resultPath+\"/checkpoint-{epoch:04d}.hdf5\", verbose=1, save_best_only=True, monitor='val_acc',mode='max')\n",
    "csv_logger = CSVLogger(resultPath+'/result_logger.csv',separator=',', append=False)\n",
    "reduce_lr = ReduceLROnPlateau(monitor='acc', factor=0.2, patience=2, min_lr=0.001)\n",
    "model.fit(x_train,y_train,epochs=NO_OF_EPOCHS,verbose=1,batch_size=BATCH_SIZE,validation_data=(x_test,y_test),callbacks=[checkpointer,csv_logger,reduce_lr])"
   ]
  },
  {
   "cell_type": "code",
   "execution_count": 0,
   "metadata": {
    "colab": {},
    "colab_type": "code",
    "id": "oXjmkeNztijd"
   },
   "outputs": [],
   "source": [
    "  model.load_weights(resultPath+\"/checkpoint-0099.hdf5\")"
   ]
  },
  {
   "cell_type": "code",
   "execution_count": 60,
   "metadata": {
    "colab": {
     "base_uri": "https://localhost:8080/",
     "height": 34
    },
    "colab_type": "code",
    "id": "EvadX63Gtkml",
    "outputId": "09a641cb-4d93-463f-c1c1-d49a8ed0860a"
   },
   "outputs": [
    {
     "name": "stdout",
     "output_type": "stream",
     "text": [
      "513/513 [==============================] - 1s 1ms/step\n"
     ]
    }
   ],
   "source": [
    "prediction_prob1 = model.predict(x_test,verbose=1)\n",
    "y_pred=np.round(prediction_prob1)"
   ]
  },
  {
   "cell_type": "code",
   "execution_count": 61,
   "metadata": {
    "colab": {
     "base_uri": "https://localhost:8080/",
     "height": 272
    },
    "colab_type": "code",
    "id": "D1wc57zEtl0O",
    "outputId": "eba4223e-549f-4d8a-aaf3-45c857d7344f"
   },
   "outputs": [
    {
     "name": "stdout",
     "output_type": "stream",
     "text": [
      "0.9707602339181286\n",
      "0.9596774193548387\n",
      "0.9794238683127572\n",
      "0.9694501018329938\n",
      "[[260  10]\n",
      " [  5 238]]\n",
      "              precision    recall  f1-score   support\n",
      "\n",
      "           0       0.98      0.96      0.97       270\n",
      "           1       0.96      0.98      0.97       243\n",
      "\n",
      "    accuracy                           0.97       513\n",
      "   macro avg       0.97      0.97      0.97       513\n",
      "weighted avg       0.97      0.97      0.97       513\n",
      "\n"
     ]
    }
   ],
   "source": [
    "print(accuracy_score(y_test,y_pred))\n",
    "print(precision_score(y_test,y_pred,average='binary'))\n",
    "print(recall_score(y_test,y_pred,average='binary'))\n",
    "print(f1_score(y_test,y_pred,average='binary'))\n",
    "print(confusion_matrix(y_test,y_pred))\n",
    "print(classification_report(y_test,y_pred))"
   ]
  },
  {
   "cell_type": "code",
   "execution_count": 50,
   "metadata": {
    "colab": {
     "base_uri": "https://localhost:8080/",
     "height": 34
    },
    "colab_type": "code",
    "id": "wtYscnD7t5bs",
    "outputId": "632a2526-9d6d-41f1-d540-5a310eb8a841"
   },
   "outputs": [
    {
     "name": "stdout",
     "output_type": "stream",
     "text": [
      "[0.95215311 1.05291005]\n"
     ]
    }
   ],
   "source": [
    "class_weights = class_weight.compute_class_weight('balanced',\n",
    "                                                 np.unique(y_train),\n",
    "                                                 y_train)\n",
    "print(class_weights)"
   ]
  },
  {
   "cell_type": "code",
   "execution_count": 51,
   "metadata": {
    "colab": {
     "base_uri": "https://localhost:8080/",
     "height": 493
    },
    "colab_type": "code",
    "id": "buYFGuIP-kyf",
    "outputId": "8ef33720-d5d5-4b81-9055-ccbc03bd5ce8"
   },
   "outputs": [
    {
     "name": "stdout",
     "output_type": "stream",
     "text": [
      "Model: \"sequential_3\"\n",
      "_________________________________________________________________\n",
      "Layer (type)                 Output Shape              Param #   \n",
      "=================================================================\n",
      "conv2d_7 (Conv2D)            (None, 156, 156, 32)      896       \n",
      "_________________________________________________________________\n",
      "max_pooling2d_5 (MaxPooling2 (None, 78, 78, 32)        0         \n",
      "_________________________________________________________________\n",
      "conv2d_8 (Conv2D)            (None, 78, 78, 64)        18496     \n",
      "_________________________________________________________________\n",
      "max_pooling2d_6 (MaxPooling2 (None, 39, 39, 64)        0         \n",
      "_________________________________________________________________\n",
      "conv2d_9 (Conv2D)            (None, 39, 39, 128)       73856     \n",
      "_________________________________________________________________\n",
      "dropout_5 (Dropout)          (None, 39, 39, 128)       0         \n",
      "_________________________________________________________________\n",
      "flatten_3 (Flatten)          (None, 194688)            0         \n",
      "_________________________________________________________________\n",
      "dense_5 (Dense)              (None, 128)               24920192  \n",
      "_________________________________________________________________\n",
      "dropout_6 (Dropout)          (None, 128)               0         \n",
      "_________________________________________________________________\n",
      "dense_6 (Dense)              (None, 1)                 129       \n",
      "=================================================================\n",
      "Total params: 25,013,569\n",
      "Trainable params: 25,013,569\n",
      "Non-trainable params: 0\n",
      "_________________________________________________________________\n"
     ]
    }
   ],
   "source": [
    "model1=Sequential()\n",
    "model1.add(Conv2D(32,kernel_size=3, padding='same',activation='relu',input_shape=(156, 156,3)))\n",
    "model1.add(MaxPool2D(pool_size=(2, 2)))\n",
    "model1.add(Conv2D(64,kernel_size=3, padding='same',activation='relu'))\n",
    "model1.add(MaxPool2D(pool_size=(2, 2)))\n",
    "model1.add(Conv2D(128,kernel_size=3, padding='same',activation='relu'))\n",
    "model1.add(Dropout(0.1))\n",
    "model1.add(Flatten())\n",
    "model1.add(Dense(128,activation='relu'))\n",
    "model1.add(Dropout(0.1))\n",
    "model1.add(Dense(1,activation='sigmoid'))\n",
    "model1.summary()\n",
    "model1.compile(loss='binary_crossentropy', optimizer='adam',metrics=['accuracy'])"
   ]
  },
  {
   "cell_type": "code",
   "execution_count": 55,
   "metadata": {
    "colab": {
     "base_uri": "https://localhost:8080/",
     "height": 1000
    },
    "colab_type": "code",
    "id": "1tzYvf96-3BJ",
    "outputId": "aab82b38-0d2d-4f9f-fd71-10538a8d94f1"
   },
   "outputs": [
    {
     "name": "stdout",
     "output_type": "stream",
     "text": [
      "Train on 1194 samples, validate on 513 samples\n",
      "Epoch 1/100\n",
      "1194/1194 [==============================] - 6s 5ms/step - loss: 0.6316 - acc: 0.8023 - val_loss: 0.2674 - val_acc: 0.9064\n",
      "\n",
      "Epoch 00001: val_acc improved from -inf to 0.90643, saving model to /content/drive/My Drive/Research/Image Spam/Results/image_spam_hunter/CNN/csl/checkpoint-0001.hdf5\n",
      "Epoch 2/100\n",
      "1194/1194 [==============================] - 5s 4ms/step - loss: 0.1978 - acc: 0.9288 - val_loss: 0.2164 - val_acc: 0.9142\n",
      "\n",
      "Epoch 00002: val_acc improved from 0.90643 to 0.91423, saving model to /content/drive/My Drive/Research/Image Spam/Results/image_spam_hunter/CNN/csl/checkpoint-0002.hdf5\n",
      "Epoch 3/100\n",
      "1194/1194 [==============================] - 5s 4ms/step - loss: 0.1338 - acc: 0.9489 - val_loss: 0.1734 - val_acc: 0.9474\n",
      "\n",
      "Epoch 00003: val_acc improved from 0.91423 to 0.94737, saving model to /content/drive/My Drive/Research/Image Spam/Results/image_spam_hunter/CNN/csl/checkpoint-0003.hdf5\n",
      "Epoch 4/100\n",
      "1194/1194 [==============================] - 5s 4ms/step - loss: 0.0728 - acc: 0.9765 - val_loss: 0.1573 - val_acc: 0.9571\n",
      "\n",
      "Epoch 00004: val_acc improved from 0.94737 to 0.95712, saving model to /content/drive/My Drive/Research/Image Spam/Results/image_spam_hunter/CNN/csl/checkpoint-0004.hdf5\n",
      "Epoch 5/100\n",
      "1194/1194 [==============================] - 5s 4ms/step - loss: 0.0629 - acc: 0.9824 - val_loss: 0.2191 - val_acc: 0.9259\n",
      "\n",
      "Epoch 00005: val_acc did not improve from 0.95712\n",
      "Epoch 6/100\n",
      "1194/1194 [==============================] - 5s 4ms/step - loss: 0.0830 - acc: 0.9749 - val_loss: 0.1249 - val_acc: 0.9630\n",
      "\n",
      "Epoch 00006: val_acc improved from 0.95712 to 0.96296, saving model to /content/drive/My Drive/Research/Image Spam/Results/image_spam_hunter/CNN/csl/checkpoint-0006.hdf5\n",
      "Epoch 7/100\n",
      "1194/1194 [==============================] - 5s 4ms/step - loss: 0.0334 - acc: 0.9925 - val_loss: 0.1008 - val_acc: 0.9747\n",
      "\n",
      "Epoch 00007: val_acc improved from 0.96296 to 0.97466, saving model to /content/drive/My Drive/Research/Image Spam/Results/image_spam_hunter/CNN/csl/checkpoint-0007.hdf5\n",
      "Epoch 8/100\n",
      "1194/1194 [==============================] - 5s 4ms/step - loss: 0.0348 - acc: 0.9858 - val_loss: 0.1151 - val_acc: 0.9708\n",
      "\n",
      "Epoch 00008: val_acc did not improve from 0.97466\n",
      "Epoch 9/100\n",
      "1194/1194 [==============================] - 5s 4ms/step - loss: 0.0148 - acc: 0.9958 - val_loss: 0.2023 - val_acc: 0.9591\n",
      "\n",
      "Epoch 00009: val_acc did not improve from 0.97466\n",
      "Epoch 10/100\n",
      "1194/1194 [==============================] - 5s 4ms/step - loss: 0.0185 - acc: 0.9933 - val_loss: 0.1563 - val_acc: 0.9708\n",
      "\n",
      "Epoch 00010: val_acc did not improve from 0.97466\n",
      "Epoch 11/100\n",
      "1194/1194 [==============================] - 5s 4ms/step - loss: 0.0171 - acc: 0.9933 - val_loss: 0.1545 - val_acc: 0.9727\n",
      "\n",
      "Epoch 00011: val_acc did not improve from 0.97466\n",
      "Epoch 12/100\n",
      "1194/1194 [==============================] - 5s 4ms/step - loss: 0.0095 - acc: 0.9966 - val_loss: 0.1694 - val_acc: 0.9688\n",
      "\n",
      "Epoch 00012: val_acc did not improve from 0.97466\n",
      "Epoch 13/100\n",
      "1194/1194 [==============================] - 5s 4ms/step - loss: 0.0045 - acc: 0.9992 - val_loss: 0.1540 - val_acc: 0.9747\n",
      "\n",
      "Epoch 00013: val_acc did not improve from 0.97466\n",
      "Epoch 14/100\n",
      "1194/1194 [==============================] - 5s 4ms/step - loss: 0.0234 - acc: 0.9916 - val_loss: 0.1516 - val_acc: 0.9610\n",
      "\n",
      "Epoch 00014: val_acc did not improve from 0.97466\n",
      "Epoch 15/100\n",
      "1194/1194 [==============================] - 4s 4ms/step - loss: 0.0388 - acc: 0.9891 - val_loss: 0.2168 - val_acc: 0.9571\n",
      "\n",
      "Epoch 00015: val_acc did not improve from 0.97466\n",
      "Epoch 16/100\n",
      "1194/1194 [==============================] - 5s 4ms/step - loss: 0.0219 - acc: 0.9916 - val_loss: 0.1625 - val_acc: 0.9747\n",
      "\n",
      "Epoch 00016: val_acc did not improve from 0.97466\n",
      "Epoch 17/100\n",
      "1194/1194 [==============================] - 4s 4ms/step - loss: 0.0055 - acc: 0.9983 - val_loss: 0.1785 - val_acc: 0.9747\n",
      "\n",
      "Epoch 00017: val_acc did not improve from 0.97466\n",
      "Epoch 18/100\n",
      "1194/1194 [==============================] - 5s 4ms/step - loss: 0.0045 - acc: 0.9983 - val_loss: 0.2572 - val_acc: 0.9669\n",
      "\n",
      "Epoch 00018: val_acc did not improve from 0.97466\n",
      "Epoch 19/100\n",
      "1194/1194 [==============================] - 4s 4ms/step - loss: 0.0072 - acc: 0.9966 - val_loss: 0.1979 - val_acc: 0.9727\n",
      "\n",
      "Epoch 00019: val_acc did not improve from 0.97466\n",
      "Epoch 20/100\n",
      "1194/1194 [==============================] - 5s 4ms/step - loss: 0.0025 - acc: 1.0000 - val_loss: 0.1988 - val_acc: 0.9727\n",
      "\n",
      "Epoch 00020: val_acc did not improve from 0.97466\n",
      "Epoch 21/100\n",
      "1194/1194 [==============================] - 5s 4ms/step - loss: 0.0031 - acc: 0.9992 - val_loss: 0.2216 - val_acc: 0.9708\n",
      "\n",
      "Epoch 00021: val_acc did not improve from 0.97466\n",
      "Epoch 22/100\n",
      "1194/1194 [==============================] - 5s 4ms/step - loss: 0.0015 - acc: 0.9992 - val_loss: 0.2077 - val_acc: 0.9708\n",
      "\n",
      "Epoch 00022: val_acc did not improve from 0.97466\n",
      "Epoch 23/100\n",
      "1194/1194 [==============================] - 5s 4ms/step - loss: 3.0865e-04 - acc: 1.0000 - val_loss: 0.2123 - val_acc: 0.9747\n",
      "\n",
      "Epoch 00023: val_acc did not improve from 0.97466\n",
      "Epoch 24/100\n",
      "1194/1194 [==============================] - 5s 4ms/step - loss: 2.4368e-04 - acc: 1.0000 - val_loss: 0.2099 - val_acc: 0.9747\n",
      "\n",
      "Epoch 00024: val_acc did not improve from 0.97466\n",
      "Epoch 25/100\n",
      "1194/1194 [==============================] - 5s 4ms/step - loss: 1.2072e-04 - acc: 1.0000 - val_loss: 0.2140 - val_acc: 0.9747\n",
      "\n",
      "Epoch 00025: val_acc did not improve from 0.97466\n",
      "Epoch 26/100\n",
      "1194/1194 [==============================] - 5s 4ms/step - loss: 1.8553e-04 - acc: 1.0000 - val_loss: 0.2137 - val_acc: 0.9727\n",
      "\n",
      "Epoch 00026: val_acc did not improve from 0.97466\n",
      "Epoch 27/100\n",
      "1194/1194 [==============================] - 4s 4ms/step - loss: 1.2490e-04 - acc: 1.0000 - val_loss: 0.2242 - val_acc: 0.9747\n",
      "\n",
      "Epoch 00027: val_acc did not improve from 0.97466\n",
      "Epoch 28/100\n",
      "1194/1194 [==============================] - 5s 4ms/step - loss: 7.4429e-05 - acc: 1.0000 - val_loss: 0.2225 - val_acc: 0.9727\n",
      "\n",
      "Epoch 00028: val_acc did not improve from 0.97466\n",
      "Epoch 29/100\n",
      "1194/1194 [==============================] - 5s 4ms/step - loss: 8.5508e-05 - acc: 1.0000 - val_loss: 0.2198 - val_acc: 0.9708\n",
      "\n",
      "Epoch 00029: val_acc did not improve from 0.97466\n",
      "Epoch 30/100\n",
      "1194/1194 [==============================] - 5s 4ms/step - loss: 5.1710e-04 - acc: 1.0000 - val_loss: 0.2114 - val_acc: 0.9727\n",
      "\n",
      "Epoch 00030: val_acc did not improve from 0.97466\n",
      "Epoch 31/100\n",
      "1194/1194 [==============================] - 5s 4ms/step - loss: 1.0179e-04 - acc: 1.0000 - val_loss: 0.2038 - val_acc: 0.9747\n",
      "\n",
      "Epoch 00031: val_acc did not improve from 0.97466\n",
      "Epoch 32/100\n",
      "1194/1194 [==============================] - 5s 4ms/step - loss: 6.5332e-05 - acc: 1.0000 - val_loss: 0.2120 - val_acc: 0.9747\n",
      "\n",
      "Epoch 00032: val_acc did not improve from 0.97466\n",
      "Epoch 33/100\n",
      "1194/1194 [==============================] - 5s 4ms/step - loss: 4.8954e-05 - acc: 1.0000 - val_loss: 0.2119 - val_acc: 0.9727\n",
      "\n",
      "Epoch 00033: val_acc did not improve from 0.97466\n",
      "Epoch 34/100\n",
      "1194/1194 [==============================] - 5s 4ms/step - loss: 4.7387e-05 - acc: 1.0000 - val_loss: 0.2130 - val_acc: 0.9708\n",
      "\n",
      "Epoch 00034: val_acc did not improve from 0.97466\n",
      "Epoch 35/100\n",
      "1194/1194 [==============================] - 5s 4ms/step - loss: 6.2603e-05 - acc: 1.0000 - val_loss: 0.2226 - val_acc: 0.9747\n",
      "\n",
      "Epoch 00035: val_acc did not improve from 0.97466\n",
      "Epoch 36/100\n",
      "1194/1194 [==============================] - 5s 4ms/step - loss: 3.2760e-05 - acc: 1.0000 - val_loss: 0.2220 - val_acc: 0.9747\n",
      "\n",
      "Epoch 00036: val_acc did not improve from 0.97466\n",
      "Epoch 37/100\n",
      "1194/1194 [==============================] - 5s 4ms/step - loss: 8.5015e-05 - acc: 1.0000 - val_loss: 0.2139 - val_acc: 0.9747\n",
      "\n",
      "Epoch 00037: val_acc did not improve from 0.97466\n",
      "Epoch 38/100\n",
      "1194/1194 [==============================] - 5s 4ms/step - loss: 3.7461e-05 - acc: 1.0000 - val_loss: 0.2249 - val_acc: 0.9747\n",
      "\n",
      "Epoch 00038: val_acc did not improve from 0.97466\n",
      "Epoch 39/100\n",
      "1194/1194 [==============================] - 5s 4ms/step - loss: 3.3230e-05 - acc: 1.0000 - val_loss: 0.2221 - val_acc: 0.9747\n",
      "\n",
      "Epoch 00039: val_acc did not improve from 0.97466\n",
      "Epoch 40/100\n",
      "1194/1194 [==============================] - 5s 4ms/step - loss: 2.2793e-05 - acc: 1.0000 - val_loss: 0.2193 - val_acc: 0.9747\n",
      "\n",
      "Epoch 00040: val_acc did not improve from 0.97466\n",
      "Epoch 41/100\n",
      "1194/1194 [==============================] - 5s 4ms/step - loss: 4.7601e-05 - acc: 1.0000 - val_loss: 0.2166 - val_acc: 0.9727\n",
      "\n",
      "Epoch 00041: val_acc did not improve from 0.97466\n",
      "Epoch 42/100\n",
      "1194/1194 [==============================] - 5s 4ms/step - loss: 2.1944e-05 - acc: 1.0000 - val_loss: 0.2219 - val_acc: 0.9727\n",
      "\n",
      "Epoch 00042: val_acc did not improve from 0.97466\n",
      "Epoch 43/100\n",
      "1194/1194 [==============================] - 5s 4ms/step - loss: 2.0481e-05 - acc: 1.0000 - val_loss: 0.2222 - val_acc: 0.9727\n",
      "\n",
      "Epoch 00043: val_acc did not improve from 0.97466\n",
      "Epoch 44/100\n",
      "1194/1194 [==============================] - 5s 4ms/step - loss: 1.8705e-05 - acc: 1.0000 - val_loss: 0.2240 - val_acc: 0.9727\n",
      "\n",
      "Epoch 00044: val_acc did not improve from 0.97466\n",
      "Epoch 45/100\n",
      "1194/1194 [==============================] - 5s 4ms/step - loss: 1.4904e-05 - acc: 1.0000 - val_loss: 0.2222 - val_acc: 0.9727\n",
      "\n",
      "Epoch 00045: val_acc did not improve from 0.97466\n",
      "Epoch 46/100\n",
      "1194/1194 [==============================] - 4s 4ms/step - loss: 9.8944e-06 - acc: 1.0000 - val_loss: 0.2228 - val_acc: 0.9727\n",
      "\n",
      "Epoch 00046: val_acc did not improve from 0.97466\n",
      "Epoch 47/100\n",
      "1194/1194 [==============================] - 4s 4ms/step - loss: 9.7898e-06 - acc: 1.0000 - val_loss: 0.2237 - val_acc: 0.9727\n",
      "\n",
      "Epoch 00047: val_acc did not improve from 0.97466\n",
      "Epoch 48/100\n",
      "1194/1194 [==============================] - 4s 4ms/step - loss: 1.9720e-05 - acc: 1.0000 - val_loss: 0.2229 - val_acc: 0.9727\n",
      "\n",
      "Epoch 00048: val_acc did not improve from 0.97466\n",
      "Epoch 49/100\n",
      "1194/1194 [==============================] - 5s 4ms/step - loss: 1.5086e-05 - acc: 1.0000 - val_loss: 0.2252 - val_acc: 0.9727\n",
      "\n",
      "Epoch 00049: val_acc did not improve from 0.97466\n",
      "Epoch 50/100\n",
      "1194/1194 [==============================] - 4s 4ms/step - loss: 1.3052e-05 - acc: 1.0000 - val_loss: 0.2254 - val_acc: 0.9727\n",
      "\n",
      "Epoch 00050: val_acc did not improve from 0.97466\n",
      "Epoch 51/100\n",
      "1194/1194 [==============================] - 5s 4ms/step - loss: 1.3897e-05 - acc: 1.0000 - val_loss: 0.2240 - val_acc: 0.9727\n",
      "\n",
      "Epoch 00051: val_acc did not improve from 0.97466\n",
      "Epoch 52/100\n",
      "1194/1194 [==============================] - 5s 4ms/step - loss: 5.8820e-06 - acc: 1.0000 - val_loss: 0.2293 - val_acc: 0.9727\n",
      "\n",
      "Epoch 00052: val_acc did not improve from 0.97466\n",
      "Epoch 53/100\n",
      "1194/1194 [==============================] - 5s 4ms/step - loss: 1.2799e-05 - acc: 1.0000 - val_loss: 0.2288 - val_acc: 0.9727\n",
      "\n",
      "Epoch 00053: val_acc did not improve from 0.97466\n",
      "Epoch 54/100\n",
      "1194/1194 [==============================] - 4s 4ms/step - loss: 4.9392e-06 - acc: 1.0000 - val_loss: 0.2292 - val_acc: 0.9727\n",
      "\n",
      "Epoch 00054: val_acc did not improve from 0.97466\n",
      "Epoch 55/100\n",
      "1194/1194 [==============================] - 5s 4ms/step - loss: 1.5548e-05 - acc: 1.0000 - val_loss: 0.2314 - val_acc: 0.9727\n",
      "\n",
      "Epoch 00055: val_acc did not improve from 0.97466\n",
      "Epoch 56/100\n",
      "1194/1194 [==============================] - 4s 4ms/step - loss: 5.5303e-06 - acc: 1.0000 - val_loss: 0.2297 - val_acc: 0.9727\n",
      "\n",
      "Epoch 00056: val_acc did not improve from 0.97466\n",
      "Epoch 57/100\n",
      "1194/1194 [==============================] - 4s 4ms/step - loss: 4.0032e-06 - acc: 1.0000 - val_loss: 0.2297 - val_acc: 0.9727\n",
      "\n",
      "Epoch 00057: val_acc did not improve from 0.97466\n",
      "Epoch 58/100\n",
      "1194/1194 [==============================] - 4s 4ms/step - loss: 4.5626e-06 - acc: 1.0000 - val_loss: 0.2302 - val_acc: 0.9727\n",
      "\n",
      "Epoch 00058: val_acc did not improve from 0.97466\n",
      "Epoch 59/100\n",
      "1194/1194 [==============================] - 5s 4ms/step - loss: 7.8492e-06 - acc: 1.0000 - val_loss: 0.2307 - val_acc: 0.9727\n",
      "\n",
      "Epoch 00059: val_acc did not improve from 0.97466\n",
      "Epoch 60/100\n",
      "1194/1194 [==============================] - 4s 4ms/step - loss: 5.8582e-06 - acc: 1.0000 - val_loss: 0.2322 - val_acc: 0.9727\n",
      "\n",
      "Epoch 00060: val_acc did not improve from 0.97466\n",
      "Epoch 61/100\n",
      "1194/1194 [==============================] - 5s 4ms/step - loss: 8.6539e-06 - acc: 1.0000 - val_loss: 0.2312 - val_acc: 0.9727\n",
      "\n",
      "Epoch 00061: val_acc did not improve from 0.97466\n",
      "Epoch 62/100\n",
      "1194/1194 [==============================] - 4s 4ms/step - loss: 4.4675e-06 - acc: 1.0000 - val_loss: 0.2317 - val_acc: 0.9727\n",
      "\n",
      "Epoch 00062: val_acc did not improve from 0.97466\n",
      "Epoch 63/100\n",
      "1194/1194 [==============================] - 5s 4ms/step - loss: 1.5725e-05 - acc: 1.0000 - val_loss: 0.2319 - val_acc: 0.9727\n",
      "\n",
      "Epoch 00063: val_acc did not improve from 0.97466\n",
      "Epoch 64/100\n",
      "1194/1194 [==============================] - 5s 4ms/step - loss: 3.9260e-06 - acc: 1.0000 - val_loss: 0.2330 - val_acc: 0.9708\n",
      "\n",
      "Epoch 00064: val_acc did not improve from 0.97466\n",
      "Epoch 65/100\n",
      "1194/1194 [==============================] - 4s 4ms/step - loss: 1.3186e-05 - acc: 1.0000 - val_loss: 0.2379 - val_acc: 0.9727\n",
      "\n",
      "Epoch 00065: val_acc did not improve from 0.97466\n",
      "Epoch 66/100\n",
      "1194/1194 [==============================] - 5s 4ms/step - loss: 6.4901e-06 - acc: 1.0000 - val_loss: 0.2371 - val_acc: 0.9727\n",
      "\n",
      "Epoch 00066: val_acc did not improve from 0.97466\n",
      "Epoch 67/100\n",
      "1194/1194 [==============================] - 4s 4ms/step - loss: 2.7133e-06 - acc: 1.0000 - val_loss: 0.2371 - val_acc: 0.9727\n",
      "\n",
      "Epoch 00067: val_acc did not improve from 0.97466\n",
      "Epoch 68/100\n",
      "1194/1194 [==============================] - 5s 4ms/step - loss: 1.0415e-05 - acc: 1.0000 - val_loss: 0.2366 - val_acc: 0.9708\n",
      "\n",
      "Epoch 00068: val_acc did not improve from 0.97466\n",
      "Epoch 69/100\n",
      "1194/1194 [==============================] - 5s 4ms/step - loss: 3.6579e-06 - acc: 1.0000 - val_loss: 0.2378 - val_acc: 0.9727\n",
      "\n",
      "Epoch 00069: val_acc did not improve from 0.97466\n",
      "Epoch 70/100\n",
      "1194/1194 [==============================] - 4s 4ms/step - loss: 4.9078e-06 - acc: 1.0000 - val_loss: 0.2393 - val_acc: 0.9727\n",
      "\n",
      "Epoch 00070: val_acc did not improve from 0.97466\n",
      "Epoch 71/100\n",
      "1194/1194 [==============================] - 5s 4ms/step - loss: 3.5587e-06 - acc: 1.0000 - val_loss: 0.2404 - val_acc: 0.9727\n",
      "\n",
      "Epoch 00071: val_acc did not improve from 0.97466\n",
      "Epoch 72/100\n",
      "1194/1194 [==============================] - 4s 4ms/step - loss: 3.2198e-06 - acc: 1.0000 - val_loss: 0.2400 - val_acc: 0.9727\n",
      "\n",
      "Epoch 00072: val_acc did not improve from 0.97466\n",
      "Epoch 73/100\n",
      "1194/1194 [==============================] - 4s 4ms/step - loss: 3.6647e-06 - acc: 1.0000 - val_loss: 0.2395 - val_acc: 0.9727\n",
      "\n",
      "Epoch 00073: val_acc did not improve from 0.97466\n",
      "Epoch 74/100\n",
      "1194/1194 [==============================] - 5s 4ms/step - loss: 3.0119e-06 - acc: 1.0000 - val_loss: 0.2390 - val_acc: 0.9727\n",
      "\n",
      "Epoch 00074: val_acc did not improve from 0.97466\n",
      "Epoch 75/100\n",
      "1194/1194 [==============================] - 4s 4ms/step - loss: 3.5386e-06 - acc: 1.0000 - val_loss: 0.2399 - val_acc: 0.9727\n",
      "\n",
      "Epoch 00075: val_acc did not improve from 0.97466\n",
      "Epoch 76/100\n",
      "1194/1194 [==============================] - 5s 4ms/step - loss: 3.0685e-06 - acc: 1.0000 - val_loss: 0.2404 - val_acc: 0.9727\n",
      "\n",
      "Epoch 00076: val_acc did not improve from 0.97466\n",
      "Epoch 77/100\n",
      "1194/1194 [==============================] - 4s 4ms/step - loss: 4.0134e-06 - acc: 1.0000 - val_loss: 0.2390 - val_acc: 0.9727\n",
      "\n",
      "Epoch 00077: val_acc did not improve from 0.97466\n",
      "Epoch 78/100\n",
      "1194/1194 [==============================] - 4s 4ms/step - loss: 2.5270e-06 - acc: 1.0000 - val_loss: 0.2406 - val_acc: 0.9727\n",
      "\n",
      "Epoch 00078: val_acc did not improve from 0.97466\n",
      "Epoch 79/100\n",
      "1194/1194 [==============================] - 5s 4ms/step - loss: 1.8806e-06 - acc: 1.0000 - val_loss: 0.2402 - val_acc: 0.9727\n",
      "\n",
      "Epoch 00079: val_acc did not improve from 0.97466\n",
      "Epoch 80/100\n",
      "1194/1194 [==============================] - 4s 4ms/step - loss: 1.2307e-06 - acc: 1.0000 - val_loss: 0.2410 - val_acc: 0.9727\n",
      "\n",
      "Epoch 00080: val_acc did not improve from 0.97466\n",
      "Epoch 81/100\n",
      "1194/1194 [==============================] - 4s 4ms/step - loss: 6.9851e-06 - acc: 1.0000 - val_loss: 0.2479 - val_acc: 0.9708\n",
      "\n",
      "Epoch 00081: val_acc did not improve from 0.97466\n",
      "Epoch 82/100\n",
      "1194/1194 [==============================] - 4s 4ms/step - loss: 2.0918e-06 - acc: 1.0000 - val_loss: 0.2461 - val_acc: 0.9727\n",
      "\n",
      "Epoch 00082: val_acc did not improve from 0.97466\n",
      "Epoch 83/100\n",
      "1194/1194 [==============================] - 5s 4ms/step - loss: 2.8967e-06 - acc: 1.0000 - val_loss: 0.2439 - val_acc: 0.9727\n",
      "\n",
      "Epoch 00083: val_acc did not improve from 0.97466\n",
      "Epoch 84/100\n",
      "1194/1194 [==============================] - 4s 4ms/step - loss: 1.7931e-06 - acc: 1.0000 - val_loss: 0.2449 - val_acc: 0.9727\n",
      "\n",
      "Epoch 00084: val_acc did not improve from 0.97466\n",
      "Epoch 85/100\n",
      "1194/1194 [==============================] - 5s 4ms/step - loss: 4.8024e-04 - acc: 1.0000 - val_loss: 0.2238 - val_acc: 0.9649\n",
      "\n",
      "Epoch 00085: val_acc did not improve from 0.97466\n",
      "Epoch 86/100\n",
      "1194/1194 [==============================] - 4s 4ms/step - loss: 0.1915 - acc: 0.9447 - val_loss: 1.7602 - val_acc: 0.7875\n",
      "\n",
      "Epoch 00086: val_acc did not improve from 0.97466\n",
      "Epoch 87/100\n",
      "1194/1194 [==============================] - 5s 4ms/step - loss: 0.4688 - acc: 0.9188 - val_loss: 0.2239 - val_acc: 0.9669\n",
      "\n",
      "Epoch 00087: val_acc did not improve from 0.97466\n",
      "Epoch 88/100\n",
      "1194/1194 [==============================] - 5s 4ms/step - loss: 0.0562 - acc: 0.9841 - val_loss: 0.1740 - val_acc: 0.9474\n",
      "\n",
      "Epoch 00088: val_acc did not improve from 0.97466\n",
      "Epoch 89/100\n",
      "1194/1194 [==============================] - 4s 4ms/step - loss: 0.0310 - acc: 0.9899 - val_loss: 0.2608 - val_acc: 0.9532\n",
      "\n",
      "Epoch 00089: val_acc did not improve from 0.97466\n",
      "Epoch 90/100\n",
      "1194/1194 [==============================] - 4s 4ms/step - loss: 0.0300 - acc: 0.9908 - val_loss: 0.1412 - val_acc: 0.9747\n",
      "\n",
      "Epoch 00090: val_acc did not improve from 0.97466\n",
      "Epoch 91/100\n",
      "1194/1194 [==============================] - 5s 4ms/step - loss: 0.0165 - acc: 0.9958 - val_loss: 0.1493 - val_acc: 0.9688\n",
      "\n",
      "Epoch 00091: val_acc did not improve from 0.97466\n",
      "Epoch 92/100\n",
      "1194/1194 [==============================] - 4s 4ms/step - loss: 0.0101 - acc: 0.9950 - val_loss: 0.1766 - val_acc: 0.9727\n",
      "\n",
      "Epoch 00092: val_acc did not improve from 0.97466\n",
      "Epoch 93/100\n",
      "1194/1194 [==============================] - 4s 4ms/step - loss: 0.0452 - acc: 0.9883 - val_loss: 0.1644 - val_acc: 0.9708\n",
      "\n",
      "Epoch 00093: val_acc did not improve from 0.97466\n",
      "Epoch 94/100\n",
      "1194/1194 [==============================] - 4s 4ms/step - loss: 0.0149 - acc: 0.9933 - val_loss: 0.2527 - val_acc: 0.9649\n",
      "\n",
      "Epoch 00094: val_acc did not improve from 0.97466\n",
      "Epoch 95/100\n",
      "1194/1194 [==============================] - 4s 4ms/step - loss: 0.0113 - acc: 0.9966 - val_loss: 0.2503 - val_acc: 0.9669\n",
      "\n",
      "Epoch 00095: val_acc did not improve from 0.97466\n",
      "Epoch 96/100\n",
      "1194/1194 [==============================] - 4s 4ms/step - loss: 0.0221 - acc: 0.9941 - val_loss: 0.2316 - val_acc: 0.9688\n",
      "\n",
      "Epoch 00096: val_acc did not improve from 0.97466\n",
      "Epoch 97/100\n",
      "1194/1194 [==============================] - 5s 4ms/step - loss: 0.0013 - acc: 1.0000 - val_loss: 0.2350 - val_acc: 0.9688\n",
      "\n",
      "Epoch 00097: val_acc did not improve from 0.97466\n",
      "Epoch 98/100\n",
      "1194/1194 [==============================] - 4s 4ms/step - loss: 4.8968e-04 - acc: 1.0000 - val_loss: 0.2467 - val_acc: 0.9688\n",
      "\n",
      "Epoch 00098: val_acc did not improve from 0.97466\n",
      "Epoch 99/100\n",
      "1194/1194 [==============================] - 5s 4ms/step - loss: 1.7904e-04 - acc: 1.0000 - val_loss: 0.2494 - val_acc: 0.9708\n",
      "\n",
      "Epoch 00099: val_acc did not improve from 0.97466\n",
      "Epoch 100/100\n",
      "1194/1194 [==============================] - 4s 4ms/step - loss: 8.9667e-05 - acc: 1.0000 - val_loss: 0.2509 - val_acc: 0.9708\n",
      "\n",
      "Epoch 00100: val_acc did not improve from 0.97466\n"
     ]
    },
    {
     "data": {
      "text/plain": [
       "<keras.callbacks.History at 0x7f98bdbf9d68>"
      ]
     },
     "execution_count": 55,
     "metadata": {
      "tags": []
     },
     "output_type": "execute_result"
    }
   ],
   "source": [
    "checkpointer = callbacks.ModelCheckpoint(filepath=resultPath+\"/csl/checkpoint-{epoch:04d}.hdf5\", verbose=1, save_best_only=True, monitor='val_acc',mode='max')\n",
    "csv_logger = CSVLogger(resultPath+'/csl/result_logger.csv',separator=',', append=False)\n",
    "reduce_lr = ReduceLROnPlateau(monitor='acc', factor=0.2, patience=2, min_lr=0.001)\n",
    "model1.fit(x_train,y_train,epochs=NO_OF_EPOCHS,verbose=1,batch_size=BATCH_SIZE,class_weight=class_weights,validation_data=(x_test,y_test),callbacks=[checkpointer,csv_logger,reduce_lr])"
   ]
  },
  {
   "cell_type": "code",
   "execution_count": 0,
   "metadata": {
    "colab": {},
    "colab_type": "code",
    "id": "RUJEKGDs_RQ7"
   },
   "outputs": [],
   "source": [
    "model1.load_weights(resultPath+\"/csl/checkpoint-0007.hdf5\")"
   ]
  },
  {
   "cell_type": "code",
   "execution_count": 57,
   "metadata": {
    "colab": {
     "base_uri": "https://localhost:8080/",
     "height": 34
    },
    "colab_type": "code",
    "id": "mpqSui9qISJL",
    "outputId": "a4b11335-35e0-4bef-f3a0-a3245734f233"
   },
   "outputs": [
    {
     "name": "stdout",
     "output_type": "stream",
     "text": [
      "513/513 [==============================] - 1s 1ms/step\n"
     ]
    }
   ],
   "source": [
    "prediction_prob = model1.predict(x_test,verbose=1)\n",
    "y_pred=np.round(prediction_prob)"
   ]
  },
  {
   "cell_type": "code",
   "execution_count": 58,
   "metadata": {
    "colab": {
     "base_uri": "https://localhost:8080/",
     "height": 272
    },
    "colab_type": "code",
    "id": "iV6K0pu1IX9a",
    "outputId": "bcdb649e-337c-415a-c5f4-2c1767a79d92"
   },
   "outputs": [
    {
     "name": "stdout",
     "output_type": "stream",
     "text": [
      "0.9746588693957114\n",
      "0.9831932773109243\n",
      "0.9629629629629629\n",
      "0.9729729729729729\n",
      "[[266   4]\n",
      " [  9 234]]\n",
      "              precision    recall  f1-score   support\n",
      "\n",
      "           0       0.97      0.99      0.98       270\n",
      "           1       0.98      0.96      0.97       243\n",
      "\n",
      "    accuracy                           0.97       513\n",
      "   macro avg       0.98      0.97      0.97       513\n",
      "weighted avg       0.97      0.97      0.97       513\n",
      "\n"
     ]
    }
   ],
   "source": [
    "print(accuracy_score(y_test,y_pred))\n",
    "print(precision_score(y_test,y_pred,average='binary'))\n",
    "print(recall_score(y_test,y_pred,average='binary'))\n",
    "print(f1_score(y_test,y_pred,average='binary'))\n",
    "print(confusion_matrix(y_test,y_pred))\n",
    "print(classification_report(y_test,y_pred))"
   ]
  },
  {
   "cell_type": "code",
   "execution_count": 67,
   "metadata": {
    "colab": {
     "base_uri": "https://localhost:8080/",
     "height": 295
    },
    "colab_type": "code",
    "id": "F8IJ3-tlIany",
    "outputId": "e9b754f2-de57-4aeb-cd1f-0db5274f74c9"
   },
   "outputs": [
    {
     "data": {
      "image/png": "[encoded data removed]",
      "text/plain": [
       "<Figure size 432x288 with 1 Axes>"
      ]
     },
     "metadata": {
      "tags": []
     },
     "output_type": "display_data"
    }
   ],
   "source": [
    "\n",
    "fpr = dict()\n",
    "tpr = dict()\n",
    "roc_auc = dict()\n",
    "for i in range(2):\n",
    "    fpr[i], tpr[i], _ = roc_curve(y_test, prediction_prob)\n",
    "    roc_auc[i] = auc(fpr[i], tpr[i])\n",
    "\n",
    "\n",
    "pyplot.figure()\n",
    "pyplot.plot(fpr[0], tpr[0],color='blue', lw=1, label='CS-CNN - ROC curve (area = %0.2f)' % roc_auc[0])\n",
    "\n",
    "fpr = dict()\n",
    "tpr = dict()\n",
    "roc_auc = dict()\n",
    "for i in range(2):\n",
    "    fpr[i], tpr[i], _ = roc_curve(y_test, prediction_prob1)\n",
    "    roc_auc[i] = auc(fpr[i], tpr[i])\n",
    "pyplot.plot(fpr[0], tpr[0],color='darkorange', lw=1, label='CNN - ROC curve (area = %0.2f)' % roc_auc[0])\n",
    "plt.plot([0, 1], [0, 1], color='red', lw=1, linestyle='--')\n",
    "pyplot.xlim([0.0, 1.0])\n",
    "pyplot.ylim([0.0, 1.05])\n",
    "pyplot.xlabel('False Positive Rate')\n",
    "pyplot.ylabel('True Positive Rate')\n",
    "pyplot.title('CNN - Receiver operating characteristic')\n",
    "plt.legend(loc=\"lower right\")\n",
    "pyplot.show()"
   ]
  },
  {
   "cell_type": "code",
   "execution_count": 0,
   "metadata": {
    "colab": {},
    "colab_type": "code",
    "id": "nDj9uwZWJBBf"
   },
   "outputs": [],
   "source": [
    "m1model = Model(inputs=model.input,outputs=model.get_layer('dense_3').output)\n",
    "m2model = Model(inputs=model1.input,outputs=model1.get_layer('dense_5').output)"
   ]
  },
  {
   "cell_type": "code",
   "execution_count": 73,
   "metadata": {
    "colab": {
     "base_uri": "https://localhost:8080/",
     "height": 85
    },
    "colab_type": "code",
    "id": "J6dHPeHrNKXj",
    "outputId": "668de787-daf2-4eca-af69-29914aa49bf0"
   },
   "outputs": [
    {
     "name": "stdout",
     "output_type": "stream",
     "text": [
      "1194/1194 [==============================] - 1s 1ms/step\n",
      "513/513 [==============================] - 1s 1ms/step\n",
      "1194/1194 [==============================] - 1s 1ms/step\n",
      "513/513 [==============================] - 1s 1ms/step\n"
     ]
    }
   ],
   "source": [
    "m1_x_train = m1model.predict(x_train,verbose=1)\n",
    "m1_x_test = m1model.predict(x_test,verbose=1)\n",
    "\n",
    "m2_x_train = m2model.predict(x_train,verbose=1)\n",
    "m2_x_test = m2model.predict(x_test,verbose=1)"
   ]
  },
  {
   "cell_type": "code",
   "execution_count": 74,
   "metadata": {
    "colab": {
     "base_uri": "https://localhost:8080/",
     "height": 51
    },
    "colab_type": "code",
    "id": "rOWwASaINooU",
    "outputId": "09566efc-abdc-4e80-c21b-50bb8c0e3d1a"
   },
   "outputs": [
    {
     "name": "stdout",
     "output_type": "stream",
     "text": [
      "Shape of model1 Train and Test DF :  (1194, 128)  :  (513, 128)\n",
      "Shape of model2 Train and Test DF :  (1194, 128)  :  (513, 128)\n"
     ]
    }
   ],
   "source": [
    "print(\"Shape of model1 Train and Test DF : \",m1_x_train.shape,\" : \",m1_x_test.shape)\n",
    "print(\"Shape of model2 Train and Test DF : \",m2_x_train.shape,\" : \",m2_x_test.shape)"
   ]
  },
  {
   "cell_type": "code",
   "execution_count": 0,
   "metadata": {
    "colab": {},
    "colab_type": "code",
    "id": "-tc4PGZgOOnl"
   },
   "outputs": [],
   "source": [
    "def printMetrics(true,pred):\n",
    "    print(\"Accuracy : \",accuracy_score(true, pred))\n",
    "    print(\"Precision\",precision_score(true, pred , average=\"weighted\"))\n",
    "    print(\"Recall : \",recall_score(true, pred , average=\"weighted\"))\n",
    "    print(\"F1-score : \",f1_score(true, pred, average=\"weighted\"))\n",
    "    print(\"Confusion Matrix : \")\n",
    "    print(confusion_matrix(true, pred))\n",
    "    print(classification_report(true,pred))"
   ]
  },
  {
   "cell_type": "code",
   "execution_count": 100,
   "metadata": {
    "colab": {
     "base_uri": "https://localhost:8080/",
     "height": 683
    },
    "colab_type": "code",
    "id": "4alG-hj2N2Yf",
    "outputId": "fb901fc5-47d1-4ec4-a05a-59f901958693"
   },
   "outputs": [
    {
     "name": "stdout",
     "output_type": "stream",
     "text": [
      "cost-insensitive\n",
      "Accuracy :  0.9688109161793372\n",
      "Precision 0.9688523013290155\n",
      "Recall :  0.9688109161793372\n",
      "F1-score :  0.9688168559615872\n",
      "Confusion Matrix : \n",
      "[[261   9]\n",
      " [  7 236]]\n",
      "              precision    recall  f1-score   support\n",
      "\n",
      "           0       0.97      0.97      0.97       270\n",
      "           1       0.96      0.97      0.97       243\n",
      "\n",
      "    accuracy                           0.97       513\n",
      "   macro avg       0.97      0.97      0.97       513\n",
      "weighted avg       0.97      0.97      0.97       513\n",
      "\n",
      "cost-sensitive\n",
      "Accuracy :  0.9746588693957114\n",
      "Precision 0.9746713132395252\n",
      "Recall :  0.9746588693957114\n",
      "F1-score :  0.9746613794412964\n",
      "Confusion Matrix : \n",
      "[[263   7]\n",
      " [  6 237]]\n",
      "              precision    recall  f1-score   support\n",
      "\n",
      "           0       0.98      0.97      0.98       270\n",
      "           1       0.97      0.98      0.97       243\n",
      "\n",
      "    accuracy                           0.97       513\n",
      "   macro avg       0.97      0.97      0.97       513\n",
      "weighted avg       0.97      0.97      0.97       513\n",
      "\n"
     ]
    },
    {
     "name": "stderr",
     "output_type": "stream",
     "text": [
      "/usr/local/lib/python3.6/dist-packages/sklearn/linear_model/logistic.py:432: FutureWarning: Default solver will be changed to 'lbfgs' in 0.22. Specify a solver to silence this warning.\n",
      "  FutureWarning)\n",
      "/usr/local/lib/python3.6/dist-packages/sklearn/linear_model/logistic.py:432: FutureWarning: Default solver will be changed to 'lbfgs' in 0.22. Specify a solver to silence this warning.\n",
      "  FutureWarning)\n"
     ]
    }
   ],
   "source": [
    "LR = LogisticRegression()\n",
    "LR.fit(m1_x_train, y_train)\n",
    "LRprob = LR.predict_proba(m1_x_test)\n",
    "y_pred = LR.predict(m1_x_test)\n",
    "print(\"cost-insensitive\")\n",
    "printMetrics(y_test,y_pred)\n",
    "\n",
    "LR = LogisticRegression()\n",
    "LR.fit(m2_x_train, y_train)\n",
    "CS_LRprob = LR.predict_proba(m2_x_test)\n",
    "y_pred = LR.predict(m2_x_test)\n",
    "print(\"cost-sensitive\")\n",
    "printMetrics(y_test,y_pred)"
   ]
  },
  {
   "cell_type": "code",
   "execution_count": 113,
   "metadata": {
    "colab": {
     "base_uri": "https://localhost:8080/",
     "height": 683
    },
    "colab_type": "code",
    "id": "3N7zMQB9UoOb",
    "outputId": "1e488a3f-bc10-4fd5-9d90-d2514d666383"
   },
   "outputs": [
    {
     "name": "stdout",
     "output_type": "stream",
     "text": [
      "cost-insensitive\n",
      "Accuracy :  0.9668615984405458\n",
      "Precision 0.9668618956741981\n",
      "Recall :  0.9668615984405458\n",
      "F1-score :  0.9668580621284713\n",
      "Confusion Matrix : \n",
      "[[262   8]\n",
      " [  9 234]]\n",
      "              precision    recall  f1-score   support\n",
      "\n",
      "           0       0.97      0.97      0.97       270\n",
      "           1       0.97      0.96      0.96       243\n",
      "\n",
      "    accuracy                           0.97       513\n",
      "   macro avg       0.97      0.97      0.97       513\n",
      "weighted avg       0.97      0.97      0.97       513\n",
      "\n",
      "cost-sensitive\n",
      "Accuracy :  0.9785575048732943\n",
      "Precision 0.9786099865047233\n",
      "Recall :  0.9785575048732943\n",
      "F1-score :  0.9785501466854741\n",
      "Confusion Matrix : \n",
      "[[266   4]\n",
      " [  7 236]]\n",
      "              precision    recall  f1-score   support\n",
      "\n",
      "           0       0.97      0.99      0.98       270\n",
      "           1       0.98      0.97      0.98       243\n",
      "\n",
      "    accuracy                           0.98       513\n",
      "   macro avg       0.98      0.98      0.98       513\n",
      "weighted avg       0.98      0.98      0.98       513\n",
      "\n"
     ]
    },
    {
     "name": "stderr",
     "output_type": "stream",
     "text": [
      "/usr/local/lib/python3.6/dist-packages/sklearn/ensemble/forest.py:245: FutureWarning: The default value of n_estimators will change from 10 in version 0.20 to 100 in 0.22.\n",
      "  \"10 in version 0.20 to 100 in 0.22.\", FutureWarning)\n",
      "/usr/local/lib/python3.6/dist-packages/sklearn/ensemble/forest.py:245: FutureWarning: The default value of n_estimators will change from 10 in version 0.20 to 100 in 0.22.\n",
      "  \"10 in version 0.20 to 100 in 0.22.\", FutureWarning)\n"
     ]
    }
   ],
   "source": [
    "RF = RandomForestClassifier()\n",
    "RF.fit(m1_x_train, y_train)\n",
    "RFprob = RF.predict_proba(m1_x_test)\n",
    "y_pred = RF.predict(m1_x_test)\n",
    "print(\"cost-insensitive\")\n",
    "printMetrics(y_test,y_pred)\n",
    "\n",
    "RF = RandomForestClassifier()\n",
    "RF.fit(m2_x_train, y_train)\n",
    "CS_RFprob = RF.predict_proba(m2_x_test)\n",
    "y_pred = RF.predict(m2_x_test)\n",
    "print(\"cost-sensitive\")\n",
    "printMetrics(y_test,y_pred)"
   ]
  },
  {
   "cell_type": "code",
   "execution_count": 115,
   "metadata": {
    "colab": {
     "base_uri": "https://localhost:8080/",
     "height": 595
    },
    "colab_type": "code",
    "id": "gYyDSr-KU75W",
    "outputId": "73b881a5-d2e5-488f-a034-9ff2cfb0032a"
   },
   "outputs": [
    {
     "name": "stdout",
     "output_type": "stream",
     "text": [
      "cost-insensitive\n",
      "Accuracy :  0.9668615984405458\n",
      "Precision 0.9668755272299219\n",
      "Recall :  0.9668615984405458\n",
      "F1-score :  0.9668648808078492\n",
      "Confusion Matrix : \n",
      "[[261   9]\n",
      " [  8 235]]\n",
      "              precision    recall  f1-score   support\n",
      "\n",
      "           0       0.97      0.97      0.97       270\n",
      "           1       0.96      0.97      0.97       243\n",
      "\n",
      "    accuracy                           0.97       513\n",
      "   macro avg       0.97      0.97      0.97       513\n",
      "weighted avg       0.97      0.97      0.97       513\n",
      "\n",
      "cost-sensitive\n",
      "Accuracy :  0.9688109161793372\n",
      "Precision 0.9689507168731545\n",
      "Recall :  0.9688109161793372\n",
      "F1-score :  0.9688218413838434\n",
      "Confusion Matrix : \n",
      "[[260  10]\n",
      " [  6 237]]\n",
      "              precision    recall  f1-score   support\n",
      "\n",
      "           0       0.98      0.96      0.97       270\n",
      "           1       0.96      0.98      0.97       243\n",
      "\n",
      "    accuracy                           0.97       513\n",
      "   macro avg       0.97      0.97      0.97       513\n",
      "weighted avg       0.97      0.97      0.97       513\n",
      "\n"
     ]
    }
   ],
   "source": [
    "DT = DecisionTreeClassifier()\n",
    "DT.fit(m1_x_train, y_train)\n",
    "DTprob = DT.predict_proba(m1_x_test)\n",
    "y_pred = DT.predict(m1_x_test)\n",
    "print(\"cost-insensitive\")\n",
    "printMetrics(y_test,y_pred)\n",
    "\n",
    "DT = DecisionTreeClassifier()\n",
    "DT.fit(m2_x_train, y_train)\n",
    "CS_DTprob = DT.predict_proba(m2_x_test)\n",
    "y_pred = DT.predict(m2_x_test)\n",
    "print(\"cost-sensitive\")\n",
    "printMetrics(y_test,y_pred)"
   ]
  },
  {
   "cell_type": "code",
   "execution_count": 116,
   "metadata": {
    "colab": {
     "base_uri": "https://localhost:8080/",
     "height": 595
    },
    "colab_type": "code",
    "id": "Vn0NQGd1VJuV",
    "outputId": "cdd80a30-0187-47a4-94a6-27a7bd7a7059"
   },
   "outputs": [
    {
     "name": "stdout",
     "output_type": "stream",
     "text": [
      "cost-insensitive\n",
      "Accuracy :  0.9649122807017544\n",
      "Precision 0.9649122807017544\n",
      "Recall :  0.9649122807017544\n",
      "F1-score :  0.9649122807017544\n",
      "Confusion Matrix : \n",
      "[[261   9]\n",
      " [  9 234]]\n",
      "              precision    recall  f1-score   support\n",
      "\n",
      "           0       0.97      0.97      0.97       270\n",
      "           1       0.96      0.96      0.96       243\n",
      "\n",
      "    accuracy                           0.96       513\n",
      "   macro avg       0.96      0.96      0.96       513\n",
      "weighted avg       0.96      0.96      0.96       513\n",
      "\n",
      "cost-sensitive\n",
      "Accuracy :  0.9805068226120858\n",
      "Precision 0.9805281142813099\n",
      "Recall :  0.9805068226120858\n",
      "F1-score :  0.9805025127241268\n",
      "Confusion Matrix : \n",
      "[[266   4]\n",
      " [  6 237]]\n",
      "              precision    recall  f1-score   support\n",
      "\n",
      "           0       0.98      0.99      0.98       270\n",
      "           1       0.98      0.98      0.98       243\n",
      "\n",
      "    accuracy                           0.98       513\n",
      "   macro avg       0.98      0.98      0.98       513\n",
      "weighted avg       0.98      0.98      0.98       513\n",
      "\n"
     ]
    }
   ],
   "source": [
    "\n",
    "KNN = KNeighborsClassifier()\n",
    "KNN.fit(m1_x_train, y_train)\n",
    "KNNprob = KNN.predict_proba(m1_x_test)\n",
    "y_pred = KNN.predict(m1_x_test)\n",
    "print(\"cost-insensitive\")\n",
    "printMetrics(y_test,y_pred)\n",
    "\n",
    "KNN = KNeighborsClassifier()\n",
    "KNN.fit(m2_x_train, y_train)\n",
    "CS_KNNprob = KNN.predict_proba(m2_x_test)\n",
    "y_pred = KNN.predict(m2_x_test)\n",
    "print(\"cost-sensitive\")\n",
    "printMetrics(y_test,y_pred)"
   ]
  },
  {
   "cell_type": "code",
   "execution_count": 117,
   "metadata": {
    "colab": {
     "base_uri": "https://localhost:8080/",
     "height": 595
    },
    "colab_type": "code",
    "id": "YI-AnbGXVLA8",
    "outputId": "17ab714f-4605-4546-e3db-b487daad1b59"
   },
   "outputs": [
    {
     "name": "stdout",
     "output_type": "stream",
     "text": [
      "cost-insensitive\n",
      "Accuracy :  0.9668615984405458\n",
      "Precision 0.9669052438789281\n",
      "Recall :  0.9668615984405458\n",
      "F1-score :  0.966850226695733\n",
      "Confusion Matrix : \n",
      "[[263   7]\n",
      " [ 10 233]]\n",
      "              precision    recall  f1-score   support\n",
      "\n",
      "           0       0.96      0.97      0.97       270\n",
      "           1       0.97      0.96      0.96       243\n",
      "\n",
      "    accuracy                           0.97       513\n",
      "   macro avg       0.97      0.97      0.97       513\n",
      "weighted avg       0.97      0.97      0.97       513\n",
      "\n",
      "cost-sensitive\n",
      "Accuracy :  0.9668615984405458\n",
      "Precision 0.9670057496682885\n",
      "Recall :  0.9668615984405458\n",
      "F1-score :  0.9668413724425312\n",
      "Confusion Matrix : \n",
      "[[264   6]\n",
      " [ 11 232]]\n",
      "              precision    recall  f1-score   support\n",
      "\n",
      "           0       0.96      0.98      0.97       270\n",
      "           1       0.97      0.95      0.96       243\n",
      "\n",
      "    accuracy                           0.97       513\n",
      "   macro avg       0.97      0.97      0.97       513\n",
      "weighted avg       0.97      0.97      0.97       513\n",
      "\n"
     ]
    }
   ],
   "source": [
    "\n",
    "GNB = GaussianNB()\n",
    "GNB.fit(m1_x_train, y_train)\n",
    "GNBprob = GNB.predict_proba(m1_x_test)\n",
    "y_pred = GNB.predict(m1_x_test)\n",
    "print(\"cost-insensitive\")\n",
    "printMetrics(y_test,y_pred)\n",
    "\n",
    "GNB = GaussianNB()\n",
    "GNB.fit(m2_x_train, y_train)\n",
    "CS_GNBprob = GNB.predict_proba(m2_x_test)\n",
    "y_pred = GNB.predict(m2_x_test)\n",
    "print(\"cost-sensitive\")\n",
    "printMetrics(y_test,y_pred)"
   ]
  },
  {
   "cell_type": "code",
   "execution_count": 118,
   "metadata": {
    "colab": {
     "base_uri": "https://localhost:8080/",
     "height": 595
    },
    "colab_type": "code",
    "id": "RmPbNRrIVLDj",
    "outputId": "9a39e468-d571-489c-e480-9be2e62e402e"
   },
   "outputs": [
    {
     "name": "stdout",
     "output_type": "stream",
     "text": [
      "cost-insensitive\n",
      "Accuracy :  0.9746588693957114\n",
      "Precision 0.9746713132395252\n",
      "Recall :  0.9746588693957114\n",
      "F1-score :  0.9746613794412964\n",
      "Confusion Matrix : \n",
      "[[263   7]\n",
      " [  6 237]]\n",
      "              precision    recall  f1-score   support\n",
      "\n",
      "           0       0.98      0.97      0.98       270\n",
      "           1       0.97      0.98      0.97       243\n",
      "\n",
      "    accuracy                           0.97       513\n",
      "   macro avg       0.97      0.97      0.97       513\n",
      "weighted avg       0.97      0.97      0.97       513\n",
      "\n",
      "cost-sensitive\n",
      "Accuracy :  0.9785575048732943\n",
      "Precision 0.978560388039722\n",
      "Recall :  0.9785575048732943\n",
      "F1-score :  0.9785552166713638\n",
      "Confusion Matrix : \n",
      "[[265   5]\n",
      " [  6 237]]\n",
      "              precision    recall  f1-score   support\n",
      "\n",
      "           0       0.98      0.98      0.98       270\n",
      "           1       0.98      0.98      0.98       243\n",
      "\n",
      "    accuracy                           0.98       513\n",
      "   macro avg       0.98      0.98      0.98       513\n",
      "weighted avg       0.98      0.98      0.98       513\n",
      "\n"
     ]
    }
   ],
   "source": [
    "AB = AdaBoostClassifier()\n",
    "AB.fit(m1_x_train, y_train)\n",
    "ABprob = AB.predict_proba(m1_x_test)\n",
    "y_pred = AB.predict(m1_x_test)\n",
    "print(\"cost-insensitive\")\n",
    "printMetrics(y_test,y_pred)\n",
    "\n",
    "AB = AdaBoostClassifier()\n",
    "AB.fit(m2_x_train, y_train)\n",
    "CS_ABprob = AB.predict_proba(m2_x_test)\n",
    "y_pred = AB.predict(m2_x_test)\n",
    "print(\"cost-sensitive\")\n",
    "printMetrics(y_test,y_pred)"
   ]
  },
  {
   "cell_type": "code",
   "execution_count": 120,
   "metadata": {
    "colab": {
     "base_uri": "https://localhost:8080/",
     "height": 595
    },
    "colab_type": "code",
    "id": "6v8X2z4fVLGG",
    "outputId": "e2a34aea-7a63-43b1-b7a2-1c9a6c6d913f"
   },
   "outputs": [
    {
     "name": "stdout",
     "output_type": "stream",
     "text": [
      "cost-insensitive\n",
      "Accuracy :  0.9688109161793372\n",
      "Precision 0.9688523013290155\n",
      "Recall :  0.9688109161793372\n",
      "F1-score :  0.9688168559615872\n",
      "Confusion Matrix : \n",
      "[[261   9]\n",
      " [  7 236]]\n",
      "              precision    recall  f1-score   support\n",
      "\n",
      "           0       0.97      0.97      0.97       270\n",
      "           1       0.96      0.97      0.97       243\n",
      "\n",
      "    accuracy                           0.97       513\n",
      "   macro avg       0.97      0.97      0.97       513\n",
      "weighted avg       0.97      0.97      0.97       513\n",
      "\n",
      "cost-sensitive\n",
      "Accuracy :  0.9805068226120858\n",
      "Precision 0.9805068226120858\n",
      "Recall :  0.9805068226120858\n",
      "F1-score :  0.9805068226120858\n",
      "Confusion Matrix : \n",
      "[[265   5]\n",
      " [  5 238]]\n",
      "              precision    recall  f1-score   support\n",
      "\n",
      "           0       0.98      0.98      0.98       270\n",
      "           1       0.98      0.98      0.98       243\n",
      "\n",
      "    accuracy                           0.98       513\n",
      "   macro avg       0.98      0.98      0.98       513\n",
      "weighted avg       0.98      0.98      0.98       513\n",
      "\n"
     ]
    }
   ],
   "source": [
    "LSVM = svm.SVC(kernel='linear',probability=True)\n",
    "LSVM.fit(m1_x_train, y_train)\n",
    "LSVMprob = LSVM.predict_proba(m1_x_test)\n",
    "y_pred = LSVM.predict(m1_x_test)\n",
    "print(\"cost-insensitive\")\n",
    "printMetrics(y_test,y_pred)\n",
    "\n",
    "LSVM = svm.SVC(kernel='linear',probability=True)\n",
    "LSVM.fit(m2_x_train, y_train)\n",
    "CS_LSVMprob = LSVM.predict_proba(m2_x_test)\n",
    "y_pred = LSVM.predict(m2_x_test)\n",
    "print(\"cost-sensitive\")\n",
    "printMetrics(y_test,y_pred)"
   ]
  },
  {
   "cell_type": "code",
   "execution_count": 122,
   "metadata": {
    "colab": {
     "base_uri": "https://localhost:8080/",
     "height": 649
    },
    "colab_type": "code",
    "id": "V-LawyEnVLIv",
    "outputId": "6e422d62-2340-482f-cda2-b3e4515468b4"
   },
   "outputs": [
    {
     "name": "stderr",
     "output_type": "stream",
     "text": [
      "/usr/local/lib/python3.6/dist-packages/sklearn/svm/base.py:193: FutureWarning: The default value of gamma will change from 'auto' to 'scale' in version 0.22 to account better for unscaled features. Set gamma explicitly to 'auto' or 'scale' to avoid this warning.\n",
      "  \"avoid this warning.\", FutureWarning)\n"
     ]
    },
    {
     "name": "stdout",
     "output_type": "stream",
     "text": [
      "cost-insensitive\n",
      "Accuracy :  0.9532163742690059\n",
      "Precision 0.9540013761981726\n",
      "Recall :  0.9532163742690059\n",
      "F1-score :  0.9532466284396324\n",
      "Confusion Matrix : \n",
      "[[253  17]\n",
      " [  7 236]]\n",
      "              precision    recall  f1-score   support\n",
      "\n",
      "           0       0.97      0.94      0.95       270\n",
      "           1       0.93      0.97      0.95       243\n",
      "\n",
      "    accuracy                           0.95       513\n",
      "   macro avg       0.95      0.95      0.95       513\n",
      "weighted avg       0.95      0.95      0.95       513\n",
      "\n",
      "cost-sensitive\n",
      "Accuracy :  0.9805068226120858\n",
      "Precision 0.9805068226120858\n",
      "Recall :  0.9805068226120858\n",
      "F1-score :  0.9805068226120858\n",
      "Confusion Matrix : \n",
      "[[265   5]\n",
      " [  5 238]]\n",
      "              precision    recall  f1-score   support\n",
      "\n",
      "           0       0.98      0.98      0.98       270\n",
      "           1       0.98      0.98      0.98       243\n",
      "\n",
      "    accuracy                           0.98       513\n",
      "   macro avg       0.98      0.98      0.98       513\n",
      "weighted avg       0.98      0.98      0.98       513\n",
      "\n"
     ]
    }
   ],
   "source": [
    "RSVM = svm.SVC(kernel='rbf',probability=True)\n",
    "RSVM.fit(m1_x_train, y_train)\n",
    "RSVMprob = RSVM.predict_proba(m1_x_test)\n",
    "y_pred = RSVM.predict(m1_x_test)\n",
    "print(\"cost-insensitive\")\n",
    "printMetrics(y_test,y_pred)\n",
    "\n",
    "RSVM = svm.SVC(kernel='linear',probability=True)\n",
    "RSVM.fit(m2_x_train, y_train)\n",
    "CS_RSVMprob = RSVM.predict_proba(m2_x_test)\n",
    "y_pred = RSVM.predict(m2_x_test)\n",
    "print(\"cost-sensitive\")\n",
    "printMetrics(y_test,y_pred)"
   ]
  },
  {
   "cell_type": "code",
   "execution_count": 0,
   "metadata": {
    "colab": {},
    "colab_type": "code",
    "id": "N7XLP5Nbetu9"
   },
   "outputs": [],
   "source": [
    "SMALL_SIZE = 12\n",
    "MEDIUM_SIZE = 10\n",
    "BIGGER_SIZE = 18\n",
    "\n",
    "pyplot.rc('font', size=SMALL_SIZE)          # controls default text sizes\n",
    "pyplot.rc('axes', titlesize=SMALL_SIZE)     # fontsize of the axes title\n",
    "pyplot.rc('axes', labelsize=SMALL_SIZE)    # fontsize of the x and y labels\n",
    "pyplot.rc('xtick', labelsize=SMALL_SIZE)    # fontsize of the tick labels\n",
    "pyplot.rc('ytick', labelsize=SMALL_SIZE)    # fontsize of the tick labels\n",
    "pyplot.rc('legend', fontsize=BIGGER_SIZE)    # legend fontsize\n",
    "pyplot.rc('figure', titlesize=SMALL_SIZE)  # fontsize of the figure title\n",
    "\n",
    "def rocinfo(pred):\n",
    "  fpr = dict()\n",
    "  tpr = dict()\n",
    "  roc_auc = dict()\n",
    "  for i in range(2):\n",
    "      fpr[i], tpr[i], _ = roc_curve(y_test, pred)\n",
    "      roc_auc[i] = auc(fpr[i], tpr[i])\n",
    "  return fpr,tpr,roc_auc"
   ]
  },
  {
   "cell_type": "code",
   "execution_count": 130,
   "metadata": {
    "colab": {
     "base_uri": "https://localhost:8080/",
     "height": 628
    },
    "colab_type": "code",
    "id": "xb32IwbJfALd",
    "outputId": "5edebaa1-d633-4d89-e2ff-26aa4b92b25a"
   },
   "outputs": [
    {
     "data": {
      "image/png": "[encoded data removed]",
      "text/plain": [
       "<Figure size 1080x720 with 1 Axes>"
      ]
     },
     "metadata": {
      "tags": []
     },
     "output_type": "display_data"
    }
   ],
   "source": [
    "pyplot.figure(figsize=(15,10))\n",
    "\n",
    "fpr,tpr,roc_auc = rocinfo(prediction_prob1) \n",
    "pyplot.plot(fpr[0], tpr[0],color='blue', lw=1, label='CNN - ROC curve (area = %0.2f)' % roc_auc[0])\n",
    "\n",
    "fpr,tpr,roc_auc = rocinfo(LRprob[:,1]) \n",
    "pyplot.plot(fpr[0], tpr[0],color='yellow', lw=1, label='CNN-LR - ROC curve (area = %0.2f)' % roc_auc[0])\n",
    "\n",
    "fpr,tpr,roc_auc = rocinfo(RFprob[:,1]) \n",
    "pyplot.plot(fpr[0], tpr[0],color='brown', lw=1, label='CNN-RF - ROC curve (area = %0.2f)' % roc_auc[0])\n",
    "\n",
    "fpr,tpr,roc_auc = rocinfo(DTprob[:,1]) \n",
    "pyplot.plot(fpr[0], tpr[0],color='darkorange', lw=1, label='CNN-DT - ROC curve (area = %0.2f)' % roc_auc[0])\n",
    "\n",
    "fpr,tpr,roc_auc = rocinfo(KNNprob[:,1]) \n",
    "pyplot.plot(fpr[0], tpr[0],color='green', lw=1, label='CNN-KNN - ROC curve (area = %0.2f)' % roc_auc[0])\n",
    "\n",
    "fpr,tpr,roc_auc = rocinfo(GNBprob[:,1]) \n",
    "pyplot.plot(fpr[0], tpr[0],color='cyan', lw=1, label='CNN-GNB - ROC curve (area = %0.2f)' % roc_auc[0])\n",
    "\n",
    "fpr,tpr,roc_auc = rocinfo(ABprob[:,1]) \n",
    "pyplot.plot(fpr[0], tpr[0],color='magenta', lw=1, label='CNN-AB - ROC curve (area = %0.2f)' % roc_auc[0])\n",
    "\n",
    "fpr,tpr,roc_auc = rocinfo(LSVMprob[:,1]) \n",
    "pyplot.plot(fpr[0], tpr[0],color='black', lw=1, label='CNN-LSVM - ROC curve (area = %0.2f)' % roc_auc[0])\n",
    "\n",
    "fpr,tpr,roc_auc = rocinfo(RSVMprob[:,1]) \n",
    "pyplot.plot(fpr[0], tpr[0],color='pink', lw=1, label='CNN-RSVM - ROC curve (area = %0.2f)' % roc_auc[0])\n",
    "\n",
    "plt.plot([0, 1], [0, 1], color='red', lw=1, linestyle='--')\n",
    "pyplot.xlim([0.0, 1.0])\n",
    "pyplot.ylim([0.0, 1.05])\n",
    "pyplot.xlabel('False Positive Rate')\n",
    "pyplot.ylabel('True Positive Rate')\n",
    "pyplot.title('CNN - Receiver operating characteristic')\n",
    "plt.legend(loc=\"lower right\")\n",
    "pyplot.show()"
   ]
  },
  {
   "cell_type": "code",
   "execution_count": 132,
   "metadata": {
    "colab": {
     "base_uri": "https://localhost:8080/",
     "height": 628
    },
    "colab_type": "code",
    "id": "EHKjpLYEc3u_",
    "outputId": "fad908f9-3a76-44c0-a19c-e4343ca1d654"
   },
   "outputs": [
    {
     "data": {
      "image/png": "[encoded data removed]",
      "text/plain": [
       "<Figure size 1080x720 with 1 Axes>"
      ]
     },
     "metadata": {
      "tags": []
     },
     "output_type": "display_data"
    }
   ],
   "source": [
    "pyplot.figure(figsize=(15,10))\n",
    "\n",
    "fpr,tpr,roc_auc = rocinfo(prediction_prob) \n",
    "pyplot.plot(fpr[0], tpr[0],color='blue', lw=1, label='CSCNN - ROC curve (area = %0.2f)' % roc_auc[0])\n",
    "\n",
    "fpr,tpr,roc_auc = rocinfo(CS_LRprob[:,1]) \n",
    "pyplot.plot(fpr[0], tpr[0],color='yellow', lw=1, label='CSCNN-LR - ROC curve (area = %0.2f)' % roc_auc[0])\n",
    "\n",
    "fpr,tpr,roc_auc = rocinfo(CS_RFprob[:,1]) \n",
    "pyplot.plot(fpr[0], tpr[0],color='brown', lw=1, label='CSCNN-RF - ROC curve (area = %0.2f)' % roc_auc[0])\n",
    "\n",
    "fpr,tpr,roc_auc = rocinfo(CS_DTprob[:,1]) \n",
    "pyplot.plot(fpr[0], tpr[0],color='darkorange', lw=1, label='CSCNN-DT - ROC curve (area = %0.2f)' % roc_auc[0])\n",
    "\n",
    "fpr,tpr,roc_auc = rocinfo(CS_KNNprob[:,1]) \n",
    "pyplot.plot(fpr[0], tpr[0],color='green', lw=1, label='CSCNN-KNN - ROC curve (area = %0.2f)' % roc_auc[0])\n",
    "\n",
    "fpr,tpr,roc_auc = rocinfo(CS_GNBprob[:,1]) \n",
    "pyplot.plot(fpr[0], tpr[0],color='cyan', lw=1, label='CSCNN-GNB - ROC curve (area = %0.2f)' % roc_auc[0])\n",
    "\n",
    "fpr,tpr,roc_auc = rocinfo(CS_ABprob[:,1]) \n",
    "pyplot.plot(fpr[0], tpr[0],color='magenta', lw=1, label='CSCNN-AB - ROC curve (area = %0.2f)' % roc_auc[0])\n",
    "\n",
    "fpr,tpr,roc_auc = rocinfo(CS_LSVMprob[:,1]) \n",
    "pyplot.plot(fpr[0], tpr[0],color='black', lw=1, label='CSCNN-LSVM - ROC curve (area = %0.2f)' % roc_auc[0])\n",
    "\n",
    "fpr,tpr,roc_auc = rocinfo(CS_RSVMprob[:,1]) \n",
    "pyplot.plot(fpr[0], tpr[0],color='pink', lw=1, label='CSCNN-RSVM - ROC curve (area = %0.2f)' % roc_auc[0])\n",
    "\n",
    "plt.plot([0, 1], [0, 1], color='red', lw=1, linestyle='--')\n",
    "pyplot.xlim([0.0, 1.0])\n",
    "pyplot.ylim([0.0, 1.05])\n",
    "pyplot.xlabel('False Positive Rate')\n",
    "pyplot.ylabel('True Positive Rate')\n",
    "pyplot.title('CNN - Receiver operating characteristic')\n",
    "plt.legend(loc=\"lower right\")\n",
    "pyplot.show()"
   ]
  },
  {
   "cell_type": "code",
   "execution_count": 0,
   "metadata": {
    "colab": {},
    "colab_type": "code",
    "id": "OzWSRgxLQAgF"
   },
   "outputs": [],
   "source": []
  }
 ],
 "metadata": {
  "accelerator": "GPU",
  "colab": {
   "collapsed_sections": [],
   "name": "Image_spam_hunter",
   "provenance": []
  },
  "kernelspec": {
   "display_name": "Python 3",
   "language": "python",
   "name": "python3"
  },
  "language_info": {
   "codemirror_mode": {
    "name": "ipython",
    "version": 3
   },
   "file_extension": ".py",
   "mimetype": "text/x-python",
   "name": "python",
   "nbconvert_exporter": "python",
   "pygments_lexer": "ipython3",
   "version": "3.7.3"
  }
 },
 "nbformat": 4,
 "nbformat_minor": 1
}
